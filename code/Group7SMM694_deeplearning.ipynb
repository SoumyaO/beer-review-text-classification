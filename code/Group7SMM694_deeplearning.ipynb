{
 "cells": [
  {
   "cell_type": "code",
   "execution_count": 1,
   "metadata": {},
   "outputs": [],
   "source": [
    "# Load, explore and plot data\n",
    "import numpy as np\n",
    "import pandas as pd\n",
    "import matplotlib.pyplot as plt\n",
    "import os\n",
    "import spacy\n",
    "import tomotopy as tp\n",
    "from gensim.models.doc2vec import Doc2Vec, TaggedDocument\n",
    "from sklearn.feature_extraction.text import TfidfVectorizer\n",
    "from wordcloud import WordCloud, STOPWORDS, ImageColorGenerator\n",
    "%matplotlib inline\n",
    "from sklearn.model_selection import train_test_split\n",
    "from sklearn.metrics import f1_score\n",
    "import tensorflow as tf\n",
    "from collections import Counter, OrderedDict\n",
    "from tensorflow.keras.preprocessing.text import Tokenizer\n",
    "from tensorflow.keras.preprocessing.sequence import pad_sequences\n",
    "from tensorflow.keras.callbacks import EarlyStopping\n",
    "from tensorflow.keras.models import Sequential\n",
    "from tensorflow.keras.layers import Input, LSTM, GRU, Dense, Embedding, Dropout, GlobalAveragePooling1D, BatchNormalization, Flatten, SpatialDropout1D, Bidirectional, Conv1D, MaxPooling1D, GlobalMaxPooling1D"
   ]
  },
  {
   "cell_type": "code",
   "execution_count": 2,
   "metadata": {},
   "outputs": [],
   "source": [
    "folder = \"\"\n",
    "\n",
    "# load the data\n",
    "df_train = pd.read_csv(os.path.join(folder,'train.csv'))\n",
    "df_test = pd.read_csv(os.path.join(folder,'test.csv'))"
   ]
  },
  {
   "cell_type": "code",
   "execution_count": 3,
   "metadata": {},
   "outputs": [],
   "source": [
    "# Data Preprocessing\n",
    "#-------------------\n",
    "# Tokenize the sentences\n",
    "nlp = spacy.load(\"en_core_web_sm\")\n",
    "# preprocessing function\n",
    "def preprocessing_fn(df):\n",
    "    df[\"list_of_lemmatized_words\"] = None\n",
    "    df[\"lemmatized_sentence\"] = None\n",
    "    indexes_to_drop = []  # remembering indexes to drop empty reviews\n",
    "    list_of_lemmatized_words = []\n",
    "    lemmatized_sentences = []\n",
    "    for index, row in df.iterrows():   \n",
    "        # initial cleanup of the sentences\n",
    "        cleaned_text = \" \".join(row[\"text\"].replace(\"\\n\", \"\").replace(\"<s/>\", \"\").replace(\"\\\"\",\"\").lower().split())\n",
    "        \n",
    "        # Lemmatization\n",
    "        tmp_lms = []\n",
    "        str_lms = \" \"\n",
    "        for token in nlp(cleaned_text):\n",
    "            # remove stop words, punctuations and numbers\n",
    "            if not token.is_stop and not token.is_punct and not token.like_num:\n",
    "                # list of lemmatized words\n",
    "                tmp_lms.append(token.lemma_)\n",
    "                # string of lemmatized words\n",
    "                str_lms += token.lemma_ + \" \"\n",
    "        list_of_lemmatized_words.append(tmp_lms)\n",
    "        lemmatized_sentences.append(str_lms)\n",
    "\n",
    "        # Only keep non empty reviews\n",
    "        if len(tmp_lms) == 0:\n",
    "            indexes_to_drop.append(index)\n",
    "\n",
    "    df[\"list_of_lemmatized_words\"] = list_of_lemmatized_words\n",
    "    df[\"lemmatized_sentence\"] = lemmatized_sentences\n",
    "\n",
    "    df_clean = df.drop(index=indexes_to_drop)  # dropping empty reviews\n",
    "    return df_clean\n",
    "\n",
    "df_clean_train = preprocessing_fn(df_train)\n",
    "\n",
    "# save df to csv\n",
    "df_clean_train.to_csv(os.path.join(folder,'train_clean.csv'), index=False, header=True)\n"
   ]
  },
  {
   "cell_type": "code",
   "execution_count": 4,
   "metadata": {},
   "outputs": [],
   "source": [
    "# load df from csv\n",
    "df_clean_train = pd.read_csv(os.path.join(folder,'train_clean.csv'), header=0)\n",
    "\n",
    "# Data splits\n",
    "# -------------\n",
    "# split the data into train, validation and test sets\n",
    "seed1 = 42\n",
    "seed2 = 52\n",
    "X_train_and_val, X_test, y_train_and_val, y_test = train_test_split(df_clean_train.drop('label', axis=1), df_clean_train['label'], test_size=0.2, random_state=seed1)\n",
    "X_train, X_val, y_train, y_val = train_test_split(X_train_and_val, y_train_and_val, test_size=X_test.shape[0], random_state=seed2)\n",
    "\n",
    "# For use with the ML pipelines\n",
    "X_train_tkns = X_train['list_of_lemmatized_words'].to_list()\n",
    "X_val_tkns = X_val['list_of_lemmatized_words'].to_list()\n",
    "X_test_tkns = X_test['list_of_lemmatized_words'].to_list()\n",
    "\n",
    "# For use with the NN pipelines\n",
    "X_train_and_val_nn = X_train_and_val['lemmatized_sentence']\n",
    "X_train_nn = X_train['lemmatized_sentence']\n",
    "X_val_nn = X_val['lemmatized_sentence']\n",
    "X_test_nn = X_test['lemmatized_sentence']"
   ]
  },
  {
   "cell_type": "markdown",
   "metadata": {},
   "source": [
    "### Neural Network Models\n",
    "\n",
    "#### Tokenization of lemmatized sentences"
   ]
  },
  {
   "cell_type": "code",
   "execution_count": 34,
   "metadata": {},
   "outputs": [
    {
     "name": "stdout",
     "output_type": "stream",
     "text": [
      "Number of unique words in the combined train and validation data:  44699\n"
     ]
    }
   ],
   "source": [
    "# Get the number of unique words in the combined train and validation data\n",
    "def word_counter (col):\n",
    "    count = Counter()\n",
    "    for text in col.values:\n",
    "        for word in text.split():\n",
    "            count[word] += 1\n",
    "    return count\n",
    "counter = word_counter(X_train_and_val_nn)\n",
    "vocab_size = len(counter)\n",
    "print(\"Number of unique words in the combined train and validation data: \", vocab_size)"
   ]
  },
  {
   "cell_type": "code",
   "execution_count": 35,
   "metadata": {},
   "outputs": [],
   "source": [
    "# Defining pre-processing parameters\n",
    "trunc_type = \"post\"\n",
    "padding_type = \"post\"\n",
    "oov_tok = \"<OOV>\"  # out of vocabulary token\n",
    "\n",
    "# Fit tokenizer on the combined training and validation data\n",
    "tokenizer = Tokenizer(num_words=vocab_size, char_level=False, oov_token=oov_tok)\n",
    "tokenizer.fit_on_texts(X_train_and_val_nn)\n",
    "\n",
    "# Tokenize and pad the sentences\n",
    "max_len = 256\n",
    "\n",
    "train_and_val_sequences = tokenizer.texts_to_sequences(X_train_and_val_nn)\n",
    "train_and_val_padded = pad_sequences(\n",
    "    train_and_val_sequences, maxlen=max_len, padding=padding_type, truncating=trunc_type\n",
    ")\n",
    "\n",
    "training_sequences = tokenizer.texts_to_sequences(X_train_nn)\n",
    "training_padded = pad_sequences(\n",
    "    training_sequences, maxlen=max_len, padding=padding_type, truncating=trunc_type\n",
    ")\n",
    "\n",
    "val_sequences = tokenizer.texts_to_sequences(X_val_nn)\n",
    "val_padded = pad_sequences(\n",
    "    val_sequences, maxlen=max_len, padding=padding_type, truncating=trunc_type\n",
    ")\n",
    "\n",
    "test_sequences = tokenizer.texts_to_sequences(X_test_nn)\n",
    "test_padded = pad_sequences(\n",
    "    test_sequences, maxlen=max_len, padding=padding_type, truncating=trunc_type\n",
    ")"
   ]
  },
  {
   "cell_type": "code",
   "execution_count": 36,
   "metadata": {},
   "outputs": [
    {
     "name": "stdout",
     "output_type": "stream",
     "text": [
      "training:  (12626, 256)   (12626,)\n",
      "validation:  (4209, 256)   (4209,)\n",
      "test:  (4209, 256)   (4209,)\n"
     ]
    }
   ],
   "source": [
    "print(\"training: \", training_padded.shape, \" \", X_train_nn.shape)\n",
    "print(\"validation: \", val_padded.shape, \" \", X_val_nn.shape)\n",
    "print(\"test: \", val_padded.shape, \" \", X_val_nn.shape)"
   ]
  },
  {
   "cell_type": "markdown",
   "metadata": {},
   "source": [
    "#### Neural Networks"
   ]
  },
  {
   "cell_type": "code",
   "execution_count": 37,
   "metadata": {},
   "outputs": [
    {
     "name": "stdout",
     "output_type": "stream",
     "text": [
      "GPU is available\n"
     ]
    }
   ],
   "source": [
    "# Define common parameters\n",
    "embedding_dim = 128\n",
    "dropout = 0.2\n",
    "num_classes = 3\n",
    "\n",
    "# Check if GPU is available\n",
    "device = '/CPU:0'\n",
    "if(len(tf.config.list_physical_devices('GPU')) > 0):\n",
    "    print(\"GPU is available\")\n",
    "    device = '/GPU:0'"
   ]
  },
  {
   "cell_type": "code",
   "execution_count": 38,
   "metadata": {},
   "outputs": [],
   "source": [
    "# Helper functions\n",
    "\n",
    "# plotting utility\n",
    "def plot_curves(history, title):\n",
    "  plt.figure(figsize=(8, 5))\n",
    "  plt.subplot(1, 2, 1)\n",
    "  plt.plot(history.history['loss'])\n",
    "  plt.plot(history.history['val_loss'])\n",
    "  plt.legend(['training_loss', 'validation_loss'])\n",
    "  plt.title('Losses')\n",
    "  plt.xlabel('Epochs')\n",
    "  plt.ylabel('Loss')\n",
    "\n",
    "  plt.subplot(1, 2, 2)\n",
    "  plt.plot(history.history['accuracy'])\n",
    "  plt.plot(history.history['val_accuracy'])\n",
    "  plt.legend(['training_accuracy', 'validation_accuracy'])\n",
    "  plt.title('Accuracies')\n",
    "  plt.xlabel('Epochs')\n",
    "  plt.xlabel('Accuracy')\n",
    "\n",
    "  plt.suptitle(title)\n",
    "\n",
    "# Define f1 score function\n",
    "def f1_score_func(preds, labels):\n",
    "    preds_flat = np.argmax(preds, axis=1).flatten()\n",
    "    labels_flat = labels.flatten()\n",
    "    return f1_score(labels_flat, preds_flat, average='macro')"
   ]
  },
  {
   "cell_type": "markdown",
   "metadata": {},
   "source": [
    "#### Bidirectional LSTM"
   ]
  },
  {
   "cell_type": "code",
   "execution_count": null,
   "metadata": {},
   "outputs": [],
   "source": [
    "import random\n",
    "import keras_tuner as kt\n",
    "import datetime\n",
    "\n",
    "tf.keras.backend.clear_session()\n",
    "tf.random.set_seed(3234)\n",
    "np.random.seed(53)\n",
    "random.seed(31543)\n",
    "\n",
    "# Define the model for keras tuner\n",
    "def build(hp):\n",
    "      # initial_lr = hp.Float('initial_lr', min_value=0.001, max_value=0.01, sampling=\"log\")\n",
    "      num_units_1 = hp.Int('num_units_l1', min_value=128, max_value=260, step=32)\n",
    "      num_units_2 = hp.Int('num_units_l2', min_value=100, max_value=130, step=32)\n",
    "      dropout = hp.Float('dropout', min_value=0.1, max_value=0.5, step=0.1)\n",
    "      embedding_dim = hp.Int('embedding_dim', min_value=128, max_value=256, step=32)\n",
    "      num_units_3 = hp.Int('num_units_l3', min_value=10, max_value=30, step=32)\n",
    "      \n",
    "      with tf.device(device):\n",
    "        model2 = Sequential()\n",
    "        model2.add(Embedding(vocab_size, embedding_dim, input_length=max_len))\n",
    "        model2.add(Bidirectional(LSTM(num_units_1, return_sequences=False)))\n",
    "        model2.add(Dense(num_units_2, activation=\"relu\"))\n",
    "        model2.add(BatchNormalization())\n",
    "        model2.add(Dense(num_units_3, activation=\"relu\"))\n",
    "        model2.add(BatchNormalization())\n",
    "        model2.add(Dropout(dropout))\n",
    "        model2.add(Dense(num_classes, activation=\"sigmoid\"))\n",
    "\n",
    "        model2.compile(optimizer=tf.keras.optimizers.Adam(),\n",
    "                loss=\"sparse_categorical_crossentropy\",\n",
    "                metrics=[\"accuracy\"])\n",
    "        return model2\n",
    "\n",
    "# Callbacks\n",
    "checkpoint_cb = tf.keras.callbacks.ModelCheckpoint(\"BiLSTMtuner\",save_best_only=True)\n",
    "early_cb = tf.keras.callbacks.EarlyStopping(monitor=\"val_loss\", patience=5, restore_best_weights=True)\n",
    "\n",
    "current_timestamp = datetime.datetime.now().strftime(\"%Y-%m-%d_%H-%M-%S\")\n",
    "\n",
    "# Tuning\n",
    "tuner = kt.Hyperband(build,\n",
    "                     objective='val_loss',\n",
    "                     max_epochs=10,\n",
    "                     factor=3,\n",
    "                     directory='logs',\n",
    "                     project_name='dl' + current_timestamp)\n",
    "tuner.search(training_padded, \n",
    "                  y_train,\n",
    "                  epochs=5,\n",
    "                  validation_data=(val_padded, y_val),\n",
    "                  callbacks=[checkpoint_cb, early_cb])\n",
    "\n",
    "# Retrieve the best model and print the summary\n",
    "best_model2 = tuner.get_best_models(num_models=1)[0]\n",
    "best_model2.summary()\n"
   ]
  },
  {
   "cell_type": "code",
   "execution_count": 42,
   "metadata": {},
   "outputs": [
    {
     "name": "stdout",
     "output_type": "stream",
     "text": [
      "Model: \"sequential_1\"\n",
      "_________________________________________________________________\n",
      " Layer (type)                Output Shape              Param #   \n",
      "=================================================================\n",
      " embedding_1 (Embedding)     (None, 256, 256)          11442944  \n",
      "                                                                 \n",
      " bidirectional_1 (Bidirectio  (None, 512)              1050624   \n",
      " nal)                                                            \n",
      "                                                                 \n",
      " dense_3 (Dense)             (None, 100)               51300     \n",
      "                                                                 \n",
      " dense_4 (Dense)             (None, 10)                1010      \n",
      "                                                                 \n",
      " dropout_1 (Dropout)         (None, 10)                0         \n",
      "                                                                 \n",
      " dense_5 (Dense)             (None, 3)                 33        \n",
      "                                                                 \n",
      "=================================================================\n",
      "Total params: 12,545,911\n",
      "Trainable params: 12,545,911\n",
      "Non-trainable params: 0\n",
      "_________________________________________________________________\n",
      "Epoch 1/30\n"
     ]
    },
    {
     "name": "stderr",
     "output_type": "stream",
     "text": [
      "WARNING:absl:Found untraced functions such as lstm_cell_4_layer_call_fn, lstm_cell_4_layer_call_and_return_conditional_losses, lstm_cell_5_layer_call_fn, lstm_cell_5_layer_call_and_return_conditional_losses while saving (showing 4 of 4). These functions will not be directly callable after loading.\n"
     ]
    },
    {
     "name": "stdout",
     "output_type": "stream",
     "text": [
      "INFO:tensorflow:Assets written to: bilstm_model\\assets\n"
     ]
    },
    {
     "name": "stderr",
     "output_type": "stream",
     "text": [
      "INFO:tensorflow:Assets written to: bilstm_model\\assets\n"
     ]
    },
    {
     "name": "stdout",
     "output_type": "stream",
     "text": [
      "395/395 - 33s - loss: 0.9980 - accuracy: 0.4908 - val_loss: 0.9252 - val_accuracy: 0.5322 - 33s/epoch - 84ms/step\n",
      "Epoch 2/30\n"
     ]
    },
    {
     "name": "stderr",
     "output_type": "stream",
     "text": [
      "WARNING:absl:Found untraced functions such as lstm_cell_4_layer_call_fn, lstm_cell_4_layer_call_and_return_conditional_losses, lstm_cell_5_layer_call_fn, lstm_cell_5_layer_call_and_return_conditional_losses while saving (showing 4 of 4). These functions will not be directly callable after loading.\n"
     ]
    },
    {
     "name": "stdout",
     "output_type": "stream",
     "text": [
      "INFO:tensorflow:Assets written to: bilstm_model\\assets\n"
     ]
    },
    {
     "name": "stderr",
     "output_type": "stream",
     "text": [
      "INFO:tensorflow:Assets written to: bilstm_model\\assets\n"
     ]
    },
    {
     "name": "stdout",
     "output_type": "stream",
     "text": [
      "395/395 - 29s - loss: 0.8403 - accuracy: 0.6030 - val_loss: 0.9106 - val_accuracy: 0.5500 - 29s/epoch - 73ms/step\n",
      "Epoch 3/30\n",
      "395/395 - 21s - loss: 0.6940 - accuracy: 0.6899 - val_loss: 1.0098 - val_accuracy: 0.5396 - 21s/epoch - 53ms/step\n",
      "Epoch 4/30\n",
      "395/395 - 21s - loss: 0.5465 - accuracy: 0.7731 - val_loss: 1.0559 - val_accuracy: 0.5445 - 21s/epoch - 54ms/step\n",
      "Epoch 5/30\n",
      "395/395 - 21s - loss: 0.4175 - accuracy: 0.8364 - val_loss: 1.3083 - val_accuracy: 0.5234 - 21s/epoch - 53ms/step\n",
      "Epoch 6/30\n",
      "395/395 - 21s - loss: 0.3261 - accuracy: 0.8775 - val_loss: 1.6656 - val_accuracy: 0.5172 - 21s/epoch - 53ms/step\n",
      "Epoch 7/30\n",
      "395/395 - 21s - loss: 0.2567 - accuracy: 0.9066 - val_loss: 2.0019 - val_accuracy: 0.5196 - 21s/epoch - 54ms/step\n"
     ]
    },
    {
     "data": {
      "image/png": "[encoded data removed]",
      "text/plain": [
       "<Figure size 800x500 with 2 Axes>"
      ]
     },
     "metadata": {},
     "output_type": "display_data"
    }
   ],
   "source": [
    "# Use the best parameters to train the model\n",
    "# Hardcoded here from previous run for reproducibility\n",
    "num_units_1 = 256\n",
    "num_units_2 = 100\n",
    "dropout = 0.2\n",
    "embedding_dim = 256\n",
    "num_units_3 = 10\n",
    "\n",
    "# with strategy.scope():       # for TPU\n",
    "with tf.device(device):\n",
    "  model2 = Sequential()\n",
    "  model2.add(Embedding(vocab_size, embedding_dim, input_length=max_len))\n",
    "  model2.add(Bidirectional(LSTM(num_units_1, return_sequences=False)))\n",
    "  model2.add(Dense(num_units_2, activation=\"relu\"))\n",
    "  # model2.add(BatchNormalization())\n",
    "  model2.add(Dense(num_units_3, activation=\"relu\"))\n",
    "  # model2.add(BatchNormalization())\n",
    "  model2.add(Dropout(dropout))\n",
    "  model2.add(Dense(num_classes, activation=\"sigmoid\"))\n",
    "\n",
    "  model2.compile(\n",
    "    loss=\"sparse_categorical_crossentropy\", optimizer=\"adam\", metrics=[\"accuracy\"])\n",
    "  model2.summary()\n",
    "\n",
    "num_epochs = 30\n",
    "early_stop = EarlyStopping(monitor='val_loss', patience=5,restore_best_weights=True)\n",
    "checkpoint_cb = tf.keras.callbacks.ModelCheckpoint(\"bilstm_model\",save_best_only=True)\n",
    "\n",
    "history2 = model2.fit(\n",
    "    training_padded,\n",
    "    y_train,\n",
    "    epochs=num_epochs,\n",
    "    validation_data=(val_padded, y_val),\n",
    "    callbacks=[early_stop, checkpoint_cb],\n",
    "    verbose=2,\n",
    ")\n",
    "\n",
    "# Plot the curves\n",
    "plot_curves(history2, 'BiLSTM model')"
   ]
  },
  {
   "cell_type": "code",
   "execution_count": 43,
   "metadata": {},
   "outputs": [
    {
     "name": "stdout",
     "output_type": "stream",
     "text": [
      "132/132 [==============================] - 3s 20ms/step\n",
      "BiLSTM model f1 score: 0.5393994874317797\n"
     ]
    }
   ],
   "source": [
    "# evaluate on test data\n",
    "y_pred = model2.predict(test_padded)\n",
    "y_pred = np.argmax(y_pred, axis=1)\n",
    "print(f\"BiLSTM model f1 score: {f1_score(y_test, y_pred, average='macro')}\")"
   ]
  },
  {
   "cell_type": "markdown",
   "metadata": {},
   "source": [
    "#### Fast Text\n",
    "Preprocessing text"
   ]
  },
  {
   "cell_type": "code",
   "execution_count": 44,
   "metadata": {},
   "outputs": [],
   "source": [
    "df_clean_train['fasttext'] = df_clean_train.apply(lambda row: f\"__label__{row['label']} {row['text']}\", axis=1)\n",
    "\n",
    "# Data splits\n",
    "# -------------\n",
    "# split the data into train, validation and test sets\n",
    "seed1 = 42\n",
    "seed2 = 52\n",
    "X_train_and_val, X_test, y_train_and_val, y_test = train_test_split(df_clean_train['fasttext'], df_clean_train['label'], test_size=0.2, random_state=seed1)\n",
    "X_train, X_val, y_train, y_val = train_test_split(X_train_and_val, y_train_and_val, test_size=X_test.shape[0], random_state=seed2)\n",
    "\n",
    "X_train_and_val.to_csv(\"train_and_val_fasttext.txt\",columns=['fasttext'], index=False, header=False)\n",
    "X_train.to_csv(\"train_fasttext.txt\",columns=['fasttext'], index=False, header=False)\n",
    "X_val.to_csv(\"val_fasttext.txt\",columns=['fasttext'], index=False, header=False)\n",
    "X_test.to_csv(\"test_fasttext.txt\",columns=['fasttext'], index=False, header=False)\n",
    "\n",
    "X_train_and_val, X_test, y_train_and_val, y_test = train_test_split(df_clean_train['lemmatized_sentence'], df_clean_train['label'], test_size=0.2, random_state=seed1)\n",
    "X_train, X_val, y_train, y_val = train_test_split(X_train_and_val, y_train_and_val, test_size=X_test.shape[0], random_state=seed2)\n",
    "X_train_and_val.to_csv(\"train_and_val_fasttext_embedding.txt\",columns=['lemmatized_sentence'], index=False, header=False)\n",
    "X_train.to_csv(\"train_fasttext_embedding.txt\",columns=['lemmatized_sentence'], index=False, header=False)\n",
    "X_val.to_csv(\"val_fasttext_embedding.txt\",columns=['lemmatized_sentence'], index=False, header=False)\n",
    "X_test.to_csv(\"test_fasttext_embedding.txt\",columns=['lemmatized_sentence'], index=False, header=False)"
   ]
  },
  {
   "cell_type": "markdown",
   "metadata": {},
   "source": [
    "With Default Config"
   ]
  },
  {
   "cell_type": "code",
   "execution_count": 6,
   "metadata": {},
   "outputs": [],
   "source": [
    "import fasttext\n"
   ]
  },
  {
   "cell_type": "code",
   "execution_count": 45,
   "metadata": {},
   "outputs": [
    {
     "name": "stdout",
     "output_type": "stream",
     "text": [
      "FastText model f1 score: 0.5375375375375375\n"
     ]
    }
   ],
   "source": [
    "def print_f1(results):\n",
    "    # calculate f1 score from the results\n",
    "    precision = results[1]\n",
    "    recall = results[2]\n",
    "    f1 = 2 * (precision * recall) / (precision + recall)\n",
    "    print(f\"FastText model f1 score: {f1}\")\n",
    "\n",
    "model_ft = fasttext.train_supervised(input=\"train_fasttext.txt\")\n",
    "model_ft.save_model(\"model_beer_1.bin\")\n",
    "results = model_ft.test(\"test_fasttext.txt\")\n",
    "print_f1(results)"
   ]
  },
  {
   "cell_type": "markdown",
   "metadata": {},
   "source": [
    "With Autotuner"
   ]
  },
  {
   "cell_type": "code",
   "execution_count": 46,
   "metadata": {},
   "outputs": [
    {
     "name": "stdout",
     "output_type": "stream",
     "text": [
      "FastText model f1 score: 0.5585585585585585\n"
     ]
    }
   ],
   "source": [
    "model_ft = fasttext.train_supervised(input=\"train_fasttext.txt\", \n",
    "                                    # epoch=25, \n",
    "                                    # # lr=1.0, \n",
    "                                    # wordNgrams=3, \n",
    "                                    # bucket=200000, \n",
    "                                    # dim=50,\n",
    "                                    # loss='hs',\n",
    "                                    autotuneValidationFile=\"val_fasttext.txt\"\n",
    "                                    )\n",
    "model_ft.save_model(\"model_beer_2.bin\")\n",
    "results = model_ft.test(\"test_fasttext.txt\")\n",
    "print_f1(results)"
   ]
  },
  {
   "cell_type": "markdown",
   "metadata": {},
   "source": [
    "Learning Fasttext Embeddings"
   ]
  },
  {
   "cell_type": "code",
   "execution_count": 7,
   "metadata": {},
   "outputs": [],
   "source": [
    "embedding_model = fasttext.train_unsupervised('train_and_val_fasttext_embedding.txt', minn=2, maxn=5, dim=100)"
   ]
  },
  {
   "cell_type": "code",
   "execution_count": 8,
   "metadata": {},
   "outputs": [],
   "source": [
    "# generate embeddings for the reviews\n",
    "train_embeddings = []\n",
    "df_train_embeddings = pd.read_csv(\"train_fasttext_embedding.txt\", header=None)\n",
    "df_train_embeddings.columns = ['text_clean']\n",
    "for review in df_train_embeddings['text_clean']:\n",
    "    embedding = embedding_model.get_sentence_vector(review)\n",
    "    train_embeddings.append(embedding)\n",
    "\n",
    "val_embeddings = []\n",
    "df_val_embeddings = pd.read_csv(\"val_fasttext_embedding.txt\", header=None)\n",
    "df_val_embeddings.columns = ['text_clean']\n",
    "for review in df_val_embeddings['text_clean']:\n",
    "    embedding = embedding_model.get_sentence_vector(review)\n",
    "    val_embeddings.append(embedding)\n",
    "\n",
    "# convert the embeddings to numpy arrays\n",
    "X_train_fasttext = np.array(train_embeddings)\n",
    "y_train_fasttext = y_train\n",
    "X_val_fasttext = np.array(val_embeddings)\n",
    "y_val_fasttext = y_val\n",
    "\n",
    "X_train_fasttext = tf.expand_dims(X_train_fasttext, axis=-1)\n",
    "X_val_fasttext = tf.expand_dims(X_val_fasttext, axis=-1)"
   ]
  },
  {
   "cell_type": "code",
   "execution_count": 9,
   "metadata": {},
   "outputs": [
    {
     "name": "stdout",
     "output_type": "stream",
     "text": [
      "Model: \"sequential\"\n",
      "_________________________________________________________________\n",
      " Layer (type)                Output Shape              Param #   \n",
      "=================================================================\n",
      " bidirectional (Bidirectiona  (None, 128)              33792     \n",
      " l)                                                              \n",
      "                                                                 \n",
      " dense (Dense)               (None, 128)               16512     \n",
      "                                                                 \n",
      " dense_1 (Dense)             (None, 64)                8256      \n",
      "                                                                 \n",
      " dropout (Dropout)           (None, 64)                0         \n",
      "                                                                 \n",
      " dense_2 (Dense)             (None, 3)                 195       \n",
      "                                                                 \n",
      "=================================================================\n",
      "Total params: 58,755\n",
      "Trainable params: 58,755\n",
      "Non-trainable params: 0\n",
      "_________________________________________________________________\n",
      "Epoch 1/60\n"
     ]
    },
    {
     "name": "stderr",
     "output_type": "stream",
     "text": [
      "WARNING:absl:Found untraced functions such as lstm_cell_1_layer_call_fn, lstm_cell_1_layer_call_and_return_conditional_losses, lstm_cell_2_layer_call_fn, lstm_cell_2_layer_call_and_return_conditional_losses while saving (showing 4 of 4). These functions will not be directly callable after loading.\n"
     ]
    },
    {
     "name": "stdout",
     "output_type": "stream",
     "text": [
      "INFO:tensorflow:Assets written to: bilstm_model\\assets\n"
     ]
    },
    {
     "name": "stderr",
     "output_type": "stream",
     "text": [
      "INFO:tensorflow:Assets written to: bilstm_model\\assets\n"
     ]
    },
    {
     "name": "stdout",
     "output_type": "stream",
     "text": [
      "395/395 - 20s - loss: 1.0944 - accuracy: 0.3614 - val_loss: 1.0882 - val_accuracy: 0.3666 - 20s/epoch - 52ms/step\n",
      "Epoch 2/60\n",
      "395/395 - 6s - loss: 1.0724 - accuracy: 0.4029 - val_loss: 1.0945 - val_accuracy: 0.3652 - 6s/epoch - 15ms/step\n",
      "Epoch 3/60\n"
     ]
    },
    {
     "name": "stderr",
     "output_type": "stream",
     "text": [
      "WARNING:absl:Found untraced functions such as lstm_cell_1_layer_call_fn, lstm_cell_1_layer_call_and_return_conditional_losses, lstm_cell_2_layer_call_fn, lstm_cell_2_layer_call_and_return_conditional_losses while saving (showing 4 of 4). These functions will not be directly callable after loading.\n"
     ]
    },
    {
     "name": "stdout",
     "output_type": "stream",
     "text": [
      "INFO:tensorflow:Assets written to: bilstm_model\\assets\n"
     ]
    },
    {
     "name": "stderr",
     "output_type": "stream",
     "text": [
      "INFO:tensorflow:Assets written to: bilstm_model\\assets\n"
     ]
    },
    {
     "name": "stdout",
     "output_type": "stream",
     "text": [
      "395/395 - 14s - loss: 1.0464 - accuracy: 0.4370 - val_loss: 1.0662 - val_accuracy: 0.4260 - 14s/epoch - 34ms/step\n",
      "Epoch 4/60\n",
      "395/395 - 6s - loss: 1.0382 - accuracy: 0.4515 - val_loss: 1.0711 - val_accuracy: 0.4132 - 6s/epoch - 16ms/step\n",
      "Epoch 5/60\n"
     ]
    },
    {
     "name": "stderr",
     "output_type": "stream",
     "text": [
      "WARNING:absl:Found untraced functions such as lstm_cell_1_layer_call_fn, lstm_cell_1_layer_call_and_return_conditional_losses, lstm_cell_2_layer_call_fn, lstm_cell_2_layer_call_and_return_conditional_losses while saving (showing 4 of 4). These functions will not be directly callable after loading.\n"
     ]
    },
    {
     "name": "stdout",
     "output_type": "stream",
     "text": [
      "INFO:tensorflow:Assets written to: bilstm_model\\assets\n"
     ]
    },
    {
     "name": "stderr",
     "output_type": "stream",
     "text": [
      "INFO:tensorflow:Assets written to: bilstm_model\\assets\n"
     ]
    },
    {
     "name": "stdout",
     "output_type": "stream",
     "text": [
      "395/395 - 14s - loss: 1.0271 - accuracy: 0.4632 - val_loss: 1.0267 - val_accuracy: 0.4666 - 14s/epoch - 36ms/step\n",
      "Epoch 6/60\n"
     ]
    },
    {
     "name": "stderr",
     "output_type": "stream",
     "text": [
      "WARNING:absl:Found untraced functions such as lstm_cell_1_layer_call_fn, lstm_cell_1_layer_call_and_return_conditional_losses, lstm_cell_2_layer_call_fn, lstm_cell_2_layer_call_and_return_conditional_losses while saving (showing 4 of 4). These functions will not be directly callable after loading.\n"
     ]
    },
    {
     "name": "stdout",
     "output_type": "stream",
     "text": [
      "INFO:tensorflow:Assets written to: bilstm_model\\assets\n"
     ]
    },
    {
     "name": "stderr",
     "output_type": "stream",
     "text": [
      "INFO:tensorflow:Assets written to: bilstm_model\\assets\n"
     ]
    },
    {
     "name": "stdout",
     "output_type": "stream",
     "text": [
      "395/395 - 15s - loss: 1.0253 - accuracy: 0.4633 - val_loss: 1.0180 - val_accuracy: 0.4730 - 15s/epoch - 39ms/step\n",
      "Epoch 7/60\n",
      "395/395 - 6s - loss: 1.0179 - accuracy: 0.4709 - val_loss: 1.0332 - val_accuracy: 0.4386 - 6s/epoch - 16ms/step\n",
      "Epoch 8/60\n"
     ]
    },
    {
     "name": "stderr",
     "output_type": "stream",
     "text": [
      "WARNING:absl:Found untraced functions such as lstm_cell_1_layer_call_fn, lstm_cell_1_layer_call_and_return_conditional_losses, lstm_cell_2_layer_call_fn, lstm_cell_2_layer_call_and_return_conditional_losses while saving (showing 4 of 4). These functions will not be directly callable after loading.\n"
     ]
    },
    {
     "name": "stdout",
     "output_type": "stream",
     "text": [
      "INFO:tensorflow:Assets written to: bilstm_model\\assets\n"
     ]
    },
    {
     "name": "stderr",
     "output_type": "stream",
     "text": [
      "INFO:tensorflow:Assets written to: bilstm_model\\assets\n"
     ]
    },
    {
     "name": "stdout",
     "output_type": "stream",
     "text": [
      "395/395 - 13s - loss: 1.0090 - accuracy: 0.4810 - val_loss: 1.0068 - val_accuracy: 0.5032 - 13s/epoch - 34ms/step\n",
      "Epoch 9/60\n",
      "395/395 - 6s - loss: 1.0063 - accuracy: 0.4777 - val_loss: 1.0069 - val_accuracy: 0.4951 - 6s/epoch - 15ms/step\n",
      "Epoch 10/60\n"
     ]
    },
    {
     "name": "stderr",
     "output_type": "stream",
     "text": [
      "WARNING:absl:Found untraced functions such as lstm_cell_1_layer_call_fn, lstm_cell_1_layer_call_and_return_conditional_losses, lstm_cell_2_layer_call_fn, lstm_cell_2_layer_call_and_return_conditional_losses while saving (showing 4 of 4). These functions will not be directly callable after loading.\n"
     ]
    },
    {
     "name": "stdout",
     "output_type": "stream",
     "text": [
      "INFO:tensorflow:Assets written to: bilstm_model\\assets\n"
     ]
    },
    {
     "name": "stderr",
     "output_type": "stream",
     "text": [
      "INFO:tensorflow:Assets written to: bilstm_model\\assets\n"
     ]
    },
    {
     "name": "stdout",
     "output_type": "stream",
     "text": [
      "395/395 - 13s - loss: 0.9922 - accuracy: 0.4950 - val_loss: 0.9949 - val_accuracy: 0.5068 - 13s/epoch - 32ms/step\n",
      "Epoch 11/60\n"
     ]
    },
    {
     "name": "stderr",
     "output_type": "stream",
     "text": [
      "WARNING:absl:Found untraced functions such as lstm_cell_1_layer_call_fn, lstm_cell_1_layer_call_and_return_conditional_losses, lstm_cell_2_layer_call_fn, lstm_cell_2_layer_call_and_return_conditional_losses while saving (showing 4 of 4). These functions will not be directly callable after loading.\n"
     ]
    },
    {
     "name": "stdout",
     "output_type": "stream",
     "text": [
      "INFO:tensorflow:Assets written to: bilstm_model\\assets\n"
     ]
    },
    {
     "name": "stderr",
     "output_type": "stream",
     "text": [
      "INFO:tensorflow:Assets written to: bilstm_model\\assets\n"
     ]
    },
    {
     "name": "stdout",
     "output_type": "stream",
     "text": [
      "395/395 - 13s - loss: 0.9900 - accuracy: 0.4953 - val_loss: 0.9910 - val_accuracy: 0.5015 - 13s/epoch - 32ms/step\n",
      "Epoch 12/60\n",
      "395/395 - 6s - loss: 0.9799 - accuracy: 0.5044 - val_loss: 1.0077 - val_accuracy: 0.4775 - 6s/epoch - 15ms/step\n",
      "Epoch 13/60\n"
     ]
    },
    {
     "name": "stderr",
     "output_type": "stream",
     "text": [
      "WARNING:absl:Found untraced functions such as lstm_cell_1_layer_call_fn, lstm_cell_1_layer_call_and_return_conditional_losses, lstm_cell_2_layer_call_fn, lstm_cell_2_layer_call_and_return_conditional_losses while saving (showing 4 of 4). These functions will not be directly callable after loading.\n"
     ]
    },
    {
     "name": "stdout",
     "output_type": "stream",
     "text": [
      "INFO:tensorflow:Assets written to: bilstm_model\\assets\n"
     ]
    },
    {
     "name": "stderr",
     "output_type": "stream",
     "text": [
      "INFO:tensorflow:Assets written to: bilstm_model\\assets\n"
     ]
    },
    {
     "name": "stdout",
     "output_type": "stream",
     "text": [
      "395/395 - 13s - loss: 0.9787 - accuracy: 0.5042 - val_loss: 0.9784 - val_accuracy: 0.5167 - 13s/epoch - 34ms/step\n",
      "Epoch 14/60\n",
      "395/395 - 5s - loss: 0.9759 - accuracy: 0.5061 - val_loss: 0.9818 - val_accuracy: 0.5063 - 5s/epoch - 14ms/step\n",
      "Epoch 15/60\n"
     ]
    },
    {
     "name": "stderr",
     "output_type": "stream",
     "text": [
      "WARNING:absl:Found untraced functions such as lstm_cell_1_layer_call_fn, lstm_cell_1_layer_call_and_return_conditional_losses, lstm_cell_2_layer_call_fn, lstm_cell_2_layer_call_and_return_conditional_losses while saving (showing 4 of 4). These functions will not be directly callable after loading.\n"
     ]
    },
    {
     "name": "stdout",
     "output_type": "stream",
     "text": [
      "INFO:tensorflow:Assets written to: bilstm_model\\assets\n"
     ]
    },
    {
     "name": "stderr",
     "output_type": "stream",
     "text": [
      "INFO:tensorflow:Assets written to: bilstm_model\\assets\n"
     ]
    },
    {
     "name": "stdout",
     "output_type": "stream",
     "text": [
      "395/395 - 13s - loss: 0.9609 - accuracy: 0.5192 - val_loss: 0.9641 - val_accuracy: 0.5234 - 13s/epoch - 32ms/step\n",
      "Epoch 16/60\n"
     ]
    },
    {
     "name": "stderr",
     "output_type": "stream",
     "text": [
      "WARNING:absl:Found untraced functions such as lstm_cell_1_layer_call_fn, lstm_cell_1_layer_call_and_return_conditional_losses, lstm_cell_2_layer_call_fn, lstm_cell_2_layer_call_and_return_conditional_losses while saving (showing 4 of 4). These functions will not be directly callable after loading.\n"
     ]
    },
    {
     "name": "stdout",
     "output_type": "stream",
     "text": [
      "INFO:tensorflow:Assets written to: bilstm_model\\assets\n"
     ]
    },
    {
     "name": "stderr",
     "output_type": "stream",
     "text": [
      "INFO:tensorflow:Assets written to: bilstm_model\\assets\n"
     ]
    },
    {
     "name": "stdout",
     "output_type": "stream",
     "text": [
      "395/395 - 14s - loss: 0.9505 - accuracy: 0.5300 - val_loss: 0.9482 - val_accuracy: 0.5331 - 14s/epoch - 36ms/step\n",
      "Epoch 17/60\n"
     ]
    },
    {
     "name": "stderr",
     "output_type": "stream",
     "text": [
      "WARNING:absl:Found untraced functions such as lstm_cell_1_layer_call_fn, lstm_cell_1_layer_call_and_return_conditional_losses, lstm_cell_2_layer_call_fn, lstm_cell_2_layer_call_and_return_conditional_losses while saving (showing 4 of 4). These functions will not be directly callable after loading.\n"
     ]
    },
    {
     "name": "stdout",
     "output_type": "stream",
     "text": [
      "INFO:tensorflow:Assets written to: bilstm_model\\assets\n"
     ]
    },
    {
     "name": "stderr",
     "output_type": "stream",
     "text": [
      "INFO:tensorflow:Assets written to: bilstm_model\\assets\n"
     ]
    },
    {
     "name": "stdout",
     "output_type": "stream",
     "text": [
      "395/395 - 14s - loss: 0.9440 - accuracy: 0.5346 - val_loss: 0.9439 - val_accuracy: 0.5348 - 14s/epoch - 36ms/step\n",
      "Epoch 18/60\n",
      "395/395 - 6s - loss: 0.9304 - accuracy: 0.5427 - val_loss: 0.9613 - val_accuracy: 0.5158 - 6s/epoch - 15ms/step\n",
      "Epoch 19/60\n",
      "395/395 - 6s - loss: 0.9261 - accuracy: 0.5423 - val_loss: 0.9717 - val_accuracy: 0.5260 - 6s/epoch - 16ms/step\n",
      "Epoch 20/60\n"
     ]
    },
    {
     "name": "stderr",
     "output_type": "stream",
     "text": [
      "WARNING:absl:Found untraced functions such as lstm_cell_1_layer_call_fn, lstm_cell_1_layer_call_and_return_conditional_losses, lstm_cell_2_layer_call_fn, lstm_cell_2_layer_call_and_return_conditional_losses while saving (showing 4 of 4). These functions will not be directly callable after loading.\n"
     ]
    },
    {
     "name": "stdout",
     "output_type": "stream",
     "text": [
      "INFO:tensorflow:Assets written to: bilstm_model\\assets\n"
     ]
    },
    {
     "name": "stderr",
     "output_type": "stream",
     "text": [
      "INFO:tensorflow:Assets written to: bilstm_model\\assets\n"
     ]
    },
    {
     "name": "stdout",
     "output_type": "stream",
     "text": [
      "395/395 - 14s - loss: 0.9263 - accuracy: 0.5444 - val_loss: 0.9359 - val_accuracy: 0.5415 - 14s/epoch - 35ms/step\n",
      "Epoch 21/60\n"
     ]
    },
    {
     "name": "stderr",
     "output_type": "stream",
     "text": [
      "WARNING:absl:Found untraced functions such as lstm_cell_1_layer_call_fn, lstm_cell_1_layer_call_and_return_conditional_losses, lstm_cell_2_layer_call_fn, lstm_cell_2_layer_call_and_return_conditional_losses while saving (showing 4 of 4). These functions will not be directly callable after loading.\n"
     ]
    },
    {
     "name": "stdout",
     "output_type": "stream",
     "text": [
      "INFO:tensorflow:Assets written to: bilstm_model\\assets\n"
     ]
    },
    {
     "name": "stderr",
     "output_type": "stream",
     "text": [
      "INFO:tensorflow:Assets written to: bilstm_model\\assets\n"
     ]
    },
    {
     "name": "stdout",
     "output_type": "stream",
     "text": [
      "395/395 - 15s - loss: 0.9230 - accuracy: 0.5472 - val_loss: 0.9273 - val_accuracy: 0.5476 - 15s/epoch - 39ms/step\n",
      "Epoch 22/60\n",
      "395/395 - 6s - loss: 0.9229 - accuracy: 0.5466 - val_loss: 0.9290 - val_accuracy: 0.5327 - 6s/epoch - 15ms/step\n",
      "Epoch 23/60\n",
      "395/395 - 6s - loss: 0.9120 - accuracy: 0.5515 - val_loss: 0.9290 - val_accuracy: 0.5346 - 6s/epoch - 15ms/step\n",
      "Epoch 24/60\n"
     ]
    },
    {
     "name": "stderr",
     "output_type": "stream",
     "text": [
      "WARNING:absl:Found untraced functions such as lstm_cell_1_layer_call_fn, lstm_cell_1_layer_call_and_return_conditional_losses, lstm_cell_2_layer_call_fn, lstm_cell_2_layer_call_and_return_conditional_losses while saving (showing 4 of 4). These functions will not be directly callable after loading.\n"
     ]
    },
    {
     "name": "stdout",
     "output_type": "stream",
     "text": [
      "INFO:tensorflow:Assets written to: bilstm_model\\assets\n"
     ]
    },
    {
     "name": "stderr",
     "output_type": "stream",
     "text": [
      "INFO:tensorflow:Assets written to: bilstm_model\\assets\n"
     ]
    },
    {
     "name": "stdout",
     "output_type": "stream",
     "text": [
      "395/395 - 13s - loss: 0.9101 - accuracy: 0.5512 - val_loss: 0.9214 - val_accuracy: 0.5448 - 13s/epoch - 33ms/step\n",
      "Epoch 25/60\n",
      "395/395 - 6s - loss: 0.9046 - accuracy: 0.5584 - val_loss: 0.9379 - val_accuracy: 0.5400 - 6s/epoch - 15ms/step\n",
      "Epoch 26/60\n"
     ]
    },
    {
     "name": "stderr",
     "output_type": "stream",
     "text": [
      "WARNING:absl:Found untraced functions such as lstm_cell_1_layer_call_fn, lstm_cell_1_layer_call_and_return_conditional_losses, lstm_cell_2_layer_call_fn, lstm_cell_2_layer_call_and_return_conditional_losses while saving (showing 4 of 4). These functions will not be directly callable after loading.\n"
     ]
    },
    {
     "name": "stdout",
     "output_type": "stream",
     "text": [
      "INFO:tensorflow:Assets written to: bilstm_model\\assets\n"
     ]
    },
    {
     "name": "stderr",
     "output_type": "stream",
     "text": [
      "INFO:tensorflow:Assets written to: bilstm_model\\assets\n"
     ]
    },
    {
     "name": "stdout",
     "output_type": "stream",
     "text": [
      "395/395 - 12s - loss: 0.9045 - accuracy: 0.5636 - val_loss: 0.9180 - val_accuracy: 0.5464 - 12s/epoch - 31ms/step\n",
      "Epoch 27/60\n"
     ]
    },
    {
     "name": "stderr",
     "output_type": "stream",
     "text": [
      "WARNING:absl:Found untraced functions such as lstm_cell_1_layer_call_fn, lstm_cell_1_layer_call_and_return_conditional_losses, lstm_cell_2_layer_call_fn, lstm_cell_2_layer_call_and_return_conditional_losses while saving (showing 4 of 4). These functions will not be directly callable after loading.\n"
     ]
    },
    {
     "name": "stdout",
     "output_type": "stream",
     "text": [
      "INFO:tensorflow:Assets written to: bilstm_model\\assets\n"
     ]
    },
    {
     "name": "stderr",
     "output_type": "stream",
     "text": [
      "INFO:tensorflow:Assets written to: bilstm_model\\assets\n"
     ]
    },
    {
     "name": "stdout",
     "output_type": "stream",
     "text": [
      "395/395 - 13s - loss: 0.9024 - accuracy: 0.5568 - val_loss: 0.9162 - val_accuracy: 0.5519 - 13s/epoch - 33ms/step\n",
      "Epoch 28/60\n"
     ]
    },
    {
     "name": "stderr",
     "output_type": "stream",
     "text": [
      "WARNING:absl:Found untraced functions such as lstm_cell_1_layer_call_fn, lstm_cell_1_layer_call_and_return_conditional_losses, lstm_cell_2_layer_call_fn, lstm_cell_2_layer_call_and_return_conditional_losses while saving (showing 4 of 4). These functions will not be directly callable after loading.\n"
     ]
    },
    {
     "name": "stdout",
     "output_type": "stream",
     "text": [
      "INFO:tensorflow:Assets written to: bilstm_model\\assets\n"
     ]
    },
    {
     "name": "stderr",
     "output_type": "stream",
     "text": [
      "INFO:tensorflow:Assets written to: bilstm_model\\assets\n"
     ]
    },
    {
     "name": "stdout",
     "output_type": "stream",
     "text": [
      "395/395 - 13s - loss: 0.8944 - accuracy: 0.5697 - val_loss: 0.9103 - val_accuracy: 0.5422 - 13s/epoch - 33ms/step\n",
      "Epoch 29/60\n",
      "395/395 - 6s - loss: 0.8961 - accuracy: 0.5623 - val_loss: 0.9311 - val_accuracy: 0.5396 - 6s/epoch - 16ms/step\n",
      "Epoch 30/60\n",
      "395/395 - 6s - loss: 0.8924 - accuracy: 0.5639 - val_loss: 0.9162 - val_accuracy: 0.5472 - 6s/epoch - 15ms/step\n",
      "Epoch 31/60\n",
      "395/395 - 6s - loss: 0.8961 - accuracy: 0.5667 - val_loss: 0.9215 - val_accuracy: 0.5422 - 6s/epoch - 14ms/step\n",
      "Epoch 32/60\n",
      "395/395 - 6s - loss: 0.8876 - accuracy: 0.5716 - val_loss: 0.9110 - val_accuracy: 0.5526 - 6s/epoch - 15ms/step\n",
      "Epoch 33/60\n"
     ]
    },
    {
     "name": "stderr",
     "output_type": "stream",
     "text": [
      "WARNING:absl:Found untraced functions such as lstm_cell_1_layer_call_fn, lstm_cell_1_layer_call_and_return_conditional_losses, lstm_cell_2_layer_call_fn, lstm_cell_2_layer_call_and_return_conditional_losses while saving (showing 4 of 4). These functions will not be directly callable after loading.\n"
     ]
    },
    {
     "name": "stdout",
     "output_type": "stream",
     "text": [
      "INFO:tensorflow:Assets written to: bilstm_model\\assets\n"
     ]
    },
    {
     "name": "stderr",
     "output_type": "stream",
     "text": [
      "INFO:tensorflow:Assets written to: bilstm_model\\assets\n"
     ]
    },
    {
     "name": "stdout",
     "output_type": "stream",
     "text": [
      "395/395 - 13s - loss: 0.8885 - accuracy: 0.5653 - val_loss: 0.9096 - val_accuracy: 0.5541 - 13s/epoch - 32ms/step\n",
      "Epoch 34/60\n",
      "395/395 - 6s - loss: 0.8873 - accuracy: 0.5713 - val_loss: 0.9099 - val_accuracy: 0.5522 - 6s/epoch - 15ms/step\n",
      "Epoch 35/60\n",
      "395/395 - 6s - loss: 0.8862 - accuracy: 0.5702 - val_loss: 0.9165 - val_accuracy: 0.5481 - 6s/epoch - 14ms/step\n",
      "Epoch 36/60\n"
     ]
    },
    {
     "name": "stderr",
     "output_type": "stream",
     "text": [
      "WARNING:absl:Found untraced functions such as lstm_cell_1_layer_call_fn, lstm_cell_1_layer_call_and_return_conditional_losses, lstm_cell_2_layer_call_fn, lstm_cell_2_layer_call_and_return_conditional_losses while saving (showing 4 of 4). These functions will not be directly callable after loading.\n"
     ]
    },
    {
     "name": "stdout",
     "output_type": "stream",
     "text": [
      "INFO:tensorflow:Assets written to: bilstm_model\\assets\n"
     ]
    },
    {
     "name": "stderr",
     "output_type": "stream",
     "text": [
      "INFO:tensorflow:Assets written to: bilstm_model\\assets\n"
     ]
    },
    {
     "name": "stdout",
     "output_type": "stream",
     "text": [
      "395/395 - 13s - loss: 0.8835 - accuracy: 0.5703 - val_loss: 0.9025 - val_accuracy: 0.5579 - 13s/epoch - 34ms/step\n",
      "Epoch 37/60\n",
      "395/395 - 6s - loss: 0.8847 - accuracy: 0.5738 - val_loss: 0.9101 - val_accuracy: 0.5541 - 6s/epoch - 15ms/step\n",
      "Epoch 38/60\n"
     ]
    },
    {
     "name": "stderr",
     "output_type": "stream",
     "text": [
      "WARNING:absl:Found untraced functions such as lstm_cell_1_layer_call_fn, lstm_cell_1_layer_call_and_return_conditional_losses, lstm_cell_2_layer_call_fn, lstm_cell_2_layer_call_and_return_conditional_losses while saving (showing 4 of 4). These functions will not be directly callable after loading.\n"
     ]
    },
    {
     "name": "stdout",
     "output_type": "stream",
     "text": [
      "INFO:tensorflow:Assets written to: bilstm_model\\assets\n"
     ]
    },
    {
     "name": "stderr",
     "output_type": "stream",
     "text": [
      "INFO:tensorflow:Assets written to: bilstm_model\\assets\n"
     ]
    },
    {
     "name": "stdout",
     "output_type": "stream",
     "text": [
      "395/395 - 13s - loss: 0.8808 - accuracy: 0.5721 - val_loss: 0.9009 - val_accuracy: 0.5543 - 13s/epoch - 33ms/step\n",
      "Epoch 39/60\n",
      "395/395 - 6s - loss: 0.8762 - accuracy: 0.5739 - val_loss: 0.9218 - val_accuracy: 0.5476 - 6s/epoch - 15ms/step\n",
      "Epoch 40/60\n",
      "395/395 - 6s - loss: 0.8725 - accuracy: 0.5752 - val_loss: 0.9045 - val_accuracy: 0.5595 - 6s/epoch - 15ms/step\n",
      "Epoch 41/60\n",
      "395/395 - 6s - loss: 0.8740 - accuracy: 0.5776 - val_loss: 0.9080 - val_accuracy: 0.5533 - 6s/epoch - 16ms/step\n",
      "Epoch 42/60\n",
      "395/395 - 6s - loss: 0.8736 - accuracy: 0.5771 - val_loss: 0.9124 - val_accuracy: 0.5626 - 6s/epoch - 14ms/step\n",
      "Epoch 43/60\n"
     ]
    },
    {
     "name": "stderr",
     "output_type": "stream",
     "text": [
      "WARNING:absl:Found untraced functions such as lstm_cell_1_layer_call_fn, lstm_cell_1_layer_call_and_return_conditional_losses, lstm_cell_2_layer_call_fn, lstm_cell_2_layer_call_and_return_conditional_losses while saving (showing 4 of 4). These functions will not be directly callable after loading.\n"
     ]
    },
    {
     "name": "stdout",
     "output_type": "stream",
     "text": [
      "INFO:tensorflow:Assets written to: bilstm_model\\assets\n"
     ]
    },
    {
     "name": "stderr",
     "output_type": "stream",
     "text": [
      "INFO:tensorflow:Assets written to: bilstm_model\\assets\n"
     ]
    },
    {
     "name": "stdout",
     "output_type": "stream",
     "text": [
      "395/395 - 13s - loss: 0.8726 - accuracy: 0.5778 - val_loss: 0.8988 - val_accuracy: 0.5633 - 13s/epoch - 34ms/step\n",
      "Epoch 44/60\n",
      "395/395 - 7s - loss: 0.8693 - accuracy: 0.5770 - val_loss: 0.9181 - val_accuracy: 0.5583 - 7s/epoch - 17ms/step\n",
      "Epoch 45/60\n",
      "395/395 - 6s - loss: 0.8689 - accuracy: 0.5794 - val_loss: 0.9046 - val_accuracy: 0.5588 - 6s/epoch - 14ms/step\n",
      "Epoch 46/60\n",
      "395/395 - 5s - loss: 0.8689 - accuracy: 0.5806 - val_loss: 0.9168 - val_accuracy: 0.5631 - 5s/epoch - 14ms/step\n",
      "Epoch 47/60\n",
      "395/395 - 5s - loss: 0.8700 - accuracy: 0.5798 - val_loss: 0.9138 - val_accuracy: 0.5636 - 5s/epoch - 13ms/step\n",
      "Epoch 48/60\n",
      "395/395 - 5s - loss: 0.8637 - accuracy: 0.5870 - val_loss: 0.9042 - val_accuracy: 0.5524 - 5s/epoch - 14ms/step\n"
     ]
    }
   ],
   "source": [
    "# Apply bilstm on this embedding vector\n",
    "# Use the best parameters to train the model\n",
    "# Hardcoded here from previous run for reproducibility\n",
    "num_units_1 = 64\n",
    "num_units_2 = 128\n",
    "dropout = 0.2\n",
    "num_units_3 = 64\n",
    "num_classes = 3\n",
    "\n",
    "# with strategy.scope():       # for TPU\n",
    "with tf.device('/GPU:0'):\n",
    "  model_ft_custom = Sequential()\n",
    "  model_ft_custom.add(Input(shape=(100,1)))\n",
    "  model_ft_custom.add(Bidirectional(LSTM(num_units_1, return_sequences=False)))\n",
    "  model_ft_custom.add(Dense(num_units_2, activation=\"relu\"))\n",
    "  model_ft_custom.add(Dense(num_units_3, activation=\"relu\"))\n",
    "  model_ft_custom.add(Dropout(dropout))\n",
    "  model_ft_custom.add(Dense(num_classes, activation=\"sigmoid\"))\n",
    "\n",
    "  model_ft_custom.compile(\n",
    "    loss=\"sparse_categorical_crossentropy\", optimizer=\"adam\", metrics=[\"accuracy\"])\n",
    "  model_ft_custom.summary()\n",
    "\n",
    "num_epochs = 60\n",
    "early_stop = EarlyStopping(monitor='val_loss', patience=5,restore_best_weights=True)\n",
    "checkpoint_cb = tf.keras.callbacks.ModelCheckpoint(\"bilstm_model\",save_best_only=True)\n",
    "\n",
    "history_ft_custom = model_ft_custom.fit(\n",
    "    X_train_fasttext,\n",
    "    y_train,\n",
    "    epochs=num_epochs,\n",
    "    validation_data=(X_val_fasttext, y_val),\n",
    "    callbacks=[early_stop, checkpoint_cb],\n",
    "    verbose=2,\n",
    ")\n",
    "\n"
   ]
  },
  {
   "cell_type": "code",
   "execution_count": 10,
   "metadata": {},
   "outputs": [
    {
     "name": "stdout",
     "output_type": "stream",
     "text": [
      "132/132 [==============================] - 1s 7ms/step\n",
      "BiLSTM model with custom Fast Text embeddings f1 score: 0.5641275698496332\n"
     ]
    }
   ],
   "source": [
    "# generate embedding for the test data\n",
    "test_embeddings = []\n",
    "df_test_embeddings = pd.read_csv(\"test_fasttext_embedding.txt\", header=None)\n",
    "df_test_embeddings.columns = ['text_clean']\n",
    "for review in df_test_embeddings['text_clean']:\n",
    "    embedding = embedding_model.get_sentence_vector(review)\n",
    "    test_embeddings.append(embedding)\n",
    "\n",
    "X_test_fasttext = np.array(test_embeddings)\n",
    "y_test_fasttext = y_test\n",
    "\n",
    "X_test_fasttext = tf.expand_dims(X_test_fasttext, axis=-1)\n",
    "\n",
    "# compute f1 score\n",
    "y_pred = model_ft_custom.predict(X_test_fasttext)\n",
    "y_pred = np.argmax(y_pred, axis=1)\n",
    "print(f\"BiLSTM model with custom Fast Text embeddings f1 score: {f1_score(y_test, y_pred, average='macro')}\")"
   ]
  }
 ],
 "metadata": {
  "kernelspec": {
   "display_name": "Python 3",
   "language": "python",
   "name": "python3"
  },
  "language_info": {
   "codemirror_mode": {
    "name": "ipython",
    "version": 3
   },
   "file_extension": ".py",
   "mimetype": "text/x-python",
   "name": "python",
   "nbconvert_exporter": "python",
   "pygments_lexer": "ipython3",
   "version": "3.9.17"
  },
  "orig_nbformat": 4
 },
 "nbformat": 4,
 "nbformat_minor": 2
}

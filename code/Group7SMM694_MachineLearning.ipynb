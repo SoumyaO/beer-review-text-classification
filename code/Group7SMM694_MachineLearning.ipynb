{
 "cells": [
  {
   "cell_type": "markdown",
   "id": "6630784e",
   "metadata": {},
   "source": [
    "### Importing libraries"
   ]
  },
  {
   "cell_type": "code",
   "execution_count": 1,
   "id": "bcbc0ffd",
   "metadata": {},
   "outputs": [],
   "source": [
    "#importing modules\n",
    "\n",
    "import xgboost\n",
    "\n",
    "import numpy as np\n",
    "import pandas as pd\n",
    "\n",
    "import matplotlib.pyplot as plt\n",
    "import seaborn as sns\n",
    "\n",
    "import spacy\n",
    "\n",
    "from nltk import word_tokenize\n",
    "\n",
    "from gensim.models.doc2vec import Doc2Vec, TaggedDocument\n",
    "from gensim.models import Phrases\n",
    "\n",
    "import tomotopy as tp\n",
    "\n",
    "from sklearn.metrics import f1_score, accuracy_score\n",
    "from sklearn.model_selection import train_test_split\n",
    "from sklearn.decomposition import TruncatedSVD\n",
    "from sklearn.preprocessing import StandardScaler, MinMaxScaler\n",
    "from sklearn.feature_extraction.text import CountVectorizer\n",
    "from sklearn.svm import SVC\n",
    "from sklearn.linear_model import LogisticRegression\n",
    "from sklearn.ensemble import RandomForestClassifier,AdaBoostClassifier, VotingClassifier, GradientBoostingClassifier\n",
    "from sklearn.model_selection import GridSearchCV\n",
    "\n",
    "\n",
    "from sklearn.naive_bayes import MultinomialNB\n",
    "\n",
    "\n",
    "from sklearn.multiclass import OneVsOneClassifier, OneVsRestClassifier"
   ]
  },
  {
   "cell_type": "markdown",
   "id": "2cb3d18c",
   "metadata": {},
   "source": [
    "### Importing Dataset"
   ]
  },
  {
   "cell_type": "code",
   "execution_count": 2,
   "id": "9dddc7c0",
   "metadata": {},
   "outputs": [
    {
     "data": {
      "text/html": [
       "<div>\n",
       "<style scoped>\n",
       "    .dataframe tbody tr th:only-of-type {\n",
       "        vertical-align: middle;\n",
       "    }\n",
       "\n",
       "    .dataframe tbody tr th {\n",
       "        vertical-align: top;\n",
       "    }\n",
       "\n",
       "    .dataframe thead th {\n",
       "        text-align: right;\n",
       "    }\n",
       "</style>\n",
       "<table border=\"1\" class=\"dataframe\">\n",
       "  <thead>\n",
       "    <tr style=\"text-align: right;\">\n",
       "      <th></th>\n",
       "      <th>label</th>\n",
       "      <th>text</th>\n",
       "    </tr>\n",
       "  </thead>\n",
       "  <tbody>\n",
       "    <tr>\n",
       "      <th>0</th>\n",
       "      <td>0</td>\n",
       "      <td>Batch #5\\n\\nAppearance: Pours a slightly hazy ...</td>\n",
       "    </tr>\n",
       "    <tr>\n",
       "      <th>1</th>\n",
       "      <td>0</td>\n",
       "      <td>Murky peach color with off-white head. Aroma h...</td>\n",
       "    </tr>\n",
       "    <tr>\n",
       "      <th>2</th>\n",
       "      <td>0</td>\n",
       "      <td>Can poured into a Spiegelau IPA glass\\n\\nA: Po...</td>\n",
       "    </tr>\n",
       "    <tr>\n",
       "      <th>3</th>\n",
       "      <td>0</td>\n",
       "      <td>A big thanks to Jeff for this one. 750ml cappe...</td>\n",
       "    </tr>\n",
       "    <tr>\n",
       "      <th>4</th>\n",
       "      <td>0</td>\n",
       "      <td>On tap into a shaker pint.\\n\\nAppearance is go...</td>\n",
       "    </tr>\n",
       "  </tbody>\n",
       "</table>\n",
       "</div>"
      ],
      "text/plain": [
       "   label                                               text\n",
       "0      0  Batch #5\\n\\nAppearance: Pours a slightly hazy ...\n",
       "1      0  Murky peach color with off-white head. Aroma h...\n",
       "2      0  Can poured into a Spiegelau IPA glass\\n\\nA: Po...\n",
       "3      0  A big thanks to Jeff for this one. 750ml cappe...\n",
       "4      0  On tap into a shaker pint.\\n\\nAppearance is go..."
      ]
     },
     "execution_count": 2,
     "metadata": {},
     "output_type": "execute_result"
    }
   ],
   "source": [
    "#looking at the raw data\n",
    "\n",
    "df = pd.read_csv(\"train.csv\")\n",
    "df.head(5)"
   ]
  },
  {
   "cell_type": "markdown",
   "id": "bbfcf7f1",
   "metadata": {},
   "source": [
    "## 1. Turning text reviews into numerical vectors\n",
    "\n",
    "We decided to try a following vector representation: reduced dimensionality TF-IDF, Doc2Vec embedding, Topic probabilities\n",
    "\n",
    "\n",
    "We made a reasonable restriction for all of these representation to be the same size, say k, so the whole represenation of the text is a 3k vector. We further tested some of the values for k, and came up with k = 50 as giving quite parsimonious represenations and good results. "
   ]
  },
  {
   "cell_type": "code",
   "execution_count": 3,
   "id": "a04416bc",
   "metadata": {},
   "outputs": [],
   "source": [
    "#setting sizes here\n",
    "\n",
    "d2v_size = 50\n",
    "c_vec_size = 50\n",
    "topic_size = 50"
   ]
  },
  {
   "cell_type": "code",
   "execution_count": 4,
   "id": "0022ca25",
   "metadata": {},
   "outputs": [],
   "source": [
    "#loading spacy language model\n",
    "\n",
    "nlp = spacy.load(\"en_core_web_lg\")"
   ]
  },
  {
   "cell_type": "markdown",
   "id": "8eb584a6",
   "metadata": {},
   "source": [
    "### 1.0.1 Preprocessing (1/2)\n",
    "\n",
    "Getting rid of numbers, punctuation, stop words, empty lines, emails, URL and too much spaces. Then keeping only lemmas."
   ]
  },
  {
   "cell_type": "code",
   "execution_count": 5,
   "id": "5dfc592b",
   "metadata": {},
   "outputs": [],
   "source": [
    "import re\n",
    "\n",
    "def preprocessing_fn(df):\n",
    "    docs_tokens = []\n",
    "    indexes_to_drop = []  # remembering indexes to drop empty reviews\n",
    "    for index, row in df.iterrows():   \n",
    "        tmp_tokens = []\n",
    "        # Remove emails and URLs from the text\n",
    "        doc = re.sub(r'\\S+@\\S+', '', row[\"text\"])  # Remove emails\n",
    "        doc = re.sub(r'http\\S+', '', doc)  # Remove URLs\n",
    "        doc = \" \".join(doc.replace(\"\\n\", \"\").replace(\"<s/>\", \"\").replace(\"\\\"\",\"\").lower().split())\n",
    "        tmp_tokens = [\n",
    "            token.lemma_\n",
    "            for token in nlp(doc)\n",
    "            if not token.is_stop\n",
    "            and not token.is_punct\n",
    "            and not token.like_num\n",
    "        ]\n",
    "        if tmp_tokens:\n",
    "            docs_tokens.append(tmp_tokens)\n",
    "        else:\n",
    "            indexes_to_drop.append(index)\n",
    "\n",
    "    df_clean = df.drop(index=indexes_to_drop)  # dropping empty reviews\n",
    "    return docs_tokens, df_clean\n",
    "\n",
    "doc_tkns_train, df_clean_train = preprocessing_fn(df)\n",
    "# doc_tkns_test, df_clean_test = preprocessing_fn(df_test)\n"
   ]
  },
  {
   "cell_type": "code",
   "execution_count": 6,
   "id": "8121a4d1",
   "metadata": {},
   "outputs": [],
   "source": [
    "df_clean_train.set_index(np.arange(0, len(df_clean_train[\"text\"]), 1), inplace=True)"
   ]
  },
  {
   "cell_type": "markdown",
   "id": "0dd82e86",
   "metadata": {},
   "source": [
    "### 1.0.2 Preprocessing (2/2)\n",
    "Accounting for common phrases, using gensim Phrases."
   ]
  },
  {
   "cell_type": "code",
   "execution_count": 7,
   "id": "68ec2c6f",
   "metadata": {},
   "outputs": [],
   "source": [
    "bigram = Phrases(                              \n",
    "        doc_tkns_train,\n",
    "        min_count=50,\n",
    "        threshold=5,\n",
    "        max_vocab_size=50000\n",
    "    )\n",
    "\n",
    "trigram = Phrases(                            \n",
    "        bigram[doc_tkns_train],\n",
    "        min_count=50,\n",
    "        threshold=5,\n",
    "        max_vocab_size=50000\n",
    "    )"
   ]
  },
  {
   "cell_type": "code",
   "execution_count": 8,
   "id": "d0527489",
   "metadata": {},
   "outputs": [],
   "source": [
    "docs_phrased = [trigram[bigram[line]] for line in doc_tkns_train]"
   ]
  },
  {
   "cell_type": "markdown",
   "id": "3dee0936",
   "metadata": {},
   "source": [
    "### 1.1 Getting Doc2Vec embeddings"
   ]
  },
  {
   "cell_type": "code",
   "execution_count": 9,
   "id": "aa0cbd2d",
   "metadata": {},
   "outputs": [],
   "source": [
    "\n",
    "tgd_reviews_train = [TaggedDocument(tkn, [i]) for i, tkn in enumerate(docs_phrased)]"
   ]
  },
  {
   "cell_type": "code",
   "execution_count": 10,
   "id": "c5c56926",
   "metadata": {},
   "outputs": [],
   "source": [
    "d2v_model = Doc2Vec(tgd_reviews_train, vector_size = d2v_size, window = 2, min_count = 1, workers = 4, epochs = 40)"
   ]
  },
  {
   "cell_type": "code",
   "execution_count": 11,
   "id": "073991be",
   "metadata": {},
   "outputs": [],
   "source": [
    "d2v_model.save(\"d2v_model_final\")"
   ]
  },
  {
   "cell_type": "code",
   "execution_count": 12,
   "id": "585c04cf",
   "metadata": {},
   "outputs": [],
   "source": [
    "d2v_model = Doc2Vec.load(\"d2v_model_final\")\n",
    "\n",
    "d2v_vectors = np.array([d2v_model.dv[i] for i in range(len(d2v_model.dv))]).reshape(len(df_clean_train[\"text\"]), d2v_size)"
   ]
  },
  {
   "cell_type": "code",
   "execution_count": 13,
   "id": "3be68023",
   "metadata": {},
   "outputs": [],
   "source": [
    "# applying MinMaxScaling, as most linear classifiers work best on scaled data, and some of them require positive features\n",
    "\n",
    "d2v_vectors = MinMaxScaler().fit_transform(d2v_vectors)\n",
    "d2v_vectors = pd.DataFrame(d2v_vectors, columns = [\"x{}\".format(i) for i in range(1, d2v_size + 1)])"
   ]
  },
  {
   "cell_type": "markdown",
   "id": "9f3ab99a",
   "metadata": {},
   "source": [
    "### 1.2 Getting Topic Distributions\n",
    "\n",
    "Here We tested multiple numbers of topics, and allthough the max coherence was achieved not on k=50, the difference was not significant in our opinion, while lower number (50) of topics provide less sparce vectors and more parsimonius representation. "
   ]
  },
  {
   "cell_type": "code",
   "execution_count": 14,
   "id": "0a055cbc",
   "metadata": {},
   "outputs": [],
   "source": [
    "\n",
    "corpus = tp.utils.Corpus() \n",
    "\n",
    "for item in docs_phrased:                    \n",
    "        corpus.add_doc(words=item)"
   ]
  },
  {
   "cell_type": "code",
   "execution_count": 15,
   "id": "6da778fa",
   "metadata": {},
   "outputs": [
    {
     "name": "stderr",
     "output_type": "stream",
     "text": [
      "C:\\Users\\karti\\AppData\\Local\\Temp\\ipykernel_20316\\138154953.py:9: RuntimeWarning: The training result may differ even with fixed seed if `workers` != 1.\n",
      "  mdl.train(0)\n",
      "C:\\Users\\karti\\AppData\\Local\\Temp\\ipykernel_20316\\138154953.py:14: RuntimeWarning: The training result may differ even with fixed seed if `workers` != 1.\n",
      "  mdl.train(10)\n"
     ]
    }
   ],
   "source": [
    "scores = {}\n",
    "\n",
    "# training of LDA topic modeling with numbers of topics ranging from 10 to 100 with 10 increments\n",
    "\n",
    "for topic_num in range(10, 110, 10):\n",
    "    mdl = tp.LDAModel(k = topic_num, corpus = corpus, min_df=5, rm_top=5, seed = 123)\n",
    "    mdl.train(0)\n",
    "    \n",
    "    # each model is trained on 40 epochs\n",
    "    \n",
    "    for i in range(0, 40, 20):\n",
    "        mdl.train(10)\n",
    "    scores[topic_num] = tp.coherence.Coherence(mdl, coherence=\"u_mass\").get_score()\n",
    "    \n",
    "    # saving all the models for future use\n",
    "    mdl.save(\"k_{}\".format(topic_num), True)"
   ]
  },
  {
   "cell_type": "code",
   "execution_count": 16,
   "id": "4716e28b",
   "metadata": {},
   "outputs": [
    {
     "data": {
      "image/png": "[encoded data removed]",
      "text/plain": [
       "<Figure size 1000x450 with 1 Axes>"
      ]
     },
     "metadata": {},
     "output_type": "display_data"
    }
   ],
   "source": [
    "# Vizualising inverse coherence metrics (higher is better) for LDA models with different number of topics\n",
    "\n",
    "fig = plt.figure(figsize=(10, 4.5))\n",
    "ax = fig.add_subplot(111)\n",
    "sns.barplot(x=list(scores.keys()), y=[-1*score for score in scores.values()], ax=ax)\n",
    "ax.set_xlabel(\"Number of topics retained\")\n",
    "ax.set_ylabel(\"Coherence Score (-1 * 'umass')\")\n",
    "plt.show()"
   ]
  },
  {
   "cell_type": "code",
   "execution_count": 17,
   "id": "a6a15e16",
   "metadata": {},
   "outputs": [
    {
     "data": {
      "text/html": [
       "<div>\n",
       "<style scoped>\n",
       "    .dataframe tbody tr th:only-of-type {\n",
       "        vertical-align: middle;\n",
       "    }\n",
       "\n",
       "    .dataframe tbody tr th {\n",
       "        vertical-align: top;\n",
       "    }\n",
       "\n",
       "    .dataframe thead th {\n",
       "        text-align: right;\n",
       "    }\n",
       "</style>\n",
       "<table border=\"1\" class=\"dataframe\">\n",
       "  <thead>\n",
       "    <tr style=\"text-align: right;\">\n",
       "      <th></th>\n",
       "      <th>topic_1</th>\n",
       "      <th>topic_2</th>\n",
       "      <th>topic_3</th>\n",
       "      <th>topic_4</th>\n",
       "      <th>topic_5</th>\n",
       "      <th>topic_6</th>\n",
       "      <th>topic_7</th>\n",
       "      <th>topic_8</th>\n",
       "      <th>topic_9</th>\n",
       "      <th>topic_10</th>\n",
       "      <th>...</th>\n",
       "      <th>topic_41</th>\n",
       "      <th>topic_42</th>\n",
       "      <th>topic_43</th>\n",
       "      <th>topic_44</th>\n",
       "      <th>topic_45</th>\n",
       "      <th>topic_46</th>\n",
       "      <th>topic_47</th>\n",
       "      <th>topic_48</th>\n",
       "      <th>topic_49</th>\n",
       "      <th>topic_50</th>\n",
       "    </tr>\n",
       "  </thead>\n",
       "  <tbody>\n",
       "    <tr>\n",
       "      <th>0</th>\n",
       "      <td>0.002442</td>\n",
       "      <td>0.002664</td>\n",
       "      <td>0.066542</td>\n",
       "      <td>0.002762</td>\n",
       "      <td>0.002457</td>\n",
       "      <td>0.002676</td>\n",
       "      <td>0.002393</td>\n",
       "      <td>0.002381</td>\n",
       "      <td>0.002252</td>\n",
       "      <td>0.002505</td>\n",
       "      <td>...</td>\n",
       "      <td>0.002536</td>\n",
       "      <td>0.002294</td>\n",
       "      <td>0.002457</td>\n",
       "      <td>0.023516</td>\n",
       "      <td>0.002610</td>\n",
       "      <td>0.365300</td>\n",
       "      <td>0.002859</td>\n",
       "      <td>0.002291</td>\n",
       "      <td>0.002112</td>\n",
       "      <td>0.002660</td>\n",
       "    </tr>\n",
       "    <tr>\n",
       "      <th>1</th>\n",
       "      <td>0.003833</td>\n",
       "      <td>0.004183</td>\n",
       "      <td>0.003878</td>\n",
       "      <td>0.004337</td>\n",
       "      <td>0.137987</td>\n",
       "      <td>0.205396</td>\n",
       "      <td>0.003757</td>\n",
       "      <td>0.003739</td>\n",
       "      <td>0.003536</td>\n",
       "      <td>0.003933</td>\n",
       "      <td>...</td>\n",
       "      <td>0.003982</td>\n",
       "      <td>0.003602</td>\n",
       "      <td>0.003858</td>\n",
       "      <td>0.003389</td>\n",
       "      <td>0.004098</td>\n",
       "      <td>0.070554</td>\n",
       "      <td>0.038021</td>\n",
       "      <td>0.003597</td>\n",
       "      <td>0.003315</td>\n",
       "      <td>0.004176</td>\n",
       "    </tr>\n",
       "  </tbody>\n",
       "</table>\n",
       "<p>2 rows × 50 columns</p>\n",
       "</div>"
      ],
      "text/plain": [
       "    topic_1   topic_2   topic_3   topic_4   topic_5   topic_6   topic_7  \\\n",
       "0  0.002442  0.002664  0.066542  0.002762  0.002457  0.002676  0.002393   \n",
       "1  0.003833  0.004183  0.003878  0.004337  0.137987  0.205396  0.003757   \n",
       "\n",
       "    topic_8   topic_9  topic_10  ...  topic_41  topic_42  topic_43  topic_44  \\\n",
       "0  0.002381  0.002252  0.002505  ...  0.002536  0.002294  0.002457  0.023516   \n",
       "1  0.003739  0.003536  0.003933  ...  0.003982  0.003602  0.003858  0.003389   \n",
       "\n",
       "   topic_45  topic_46  topic_47  topic_48  topic_49  topic_50  \n",
       "0  0.002610  0.365300  0.002859  0.002291  0.002112  0.002660  \n",
       "1  0.004098  0.070554  0.038021  0.003597  0.003315  0.004176  \n",
       "\n",
       "[2 rows x 50 columns]"
      ]
     },
     "execution_count": 17,
     "metadata": {},
     "output_type": "execute_result"
    }
   ],
   "source": [
    "# Loading a model for k=topic_size topics model and putting distributions into DataFrame\n",
    "\n",
    "best_mdl = tp.LDAModel.load(\"k_{}\".format(topic_size))\n",
    "topic_dist = pd.DataFrame(                                                \n",
    "        np.stack([doc.get_topic_dist() for doc in best_mdl.docs]),\n",
    "        columns=[\"topic_{}\".format(i + 1) for i in range(best_mdl.k)],\n",
    "    )\n",
    "topic_dist.head(2)\n"
   ]
  },
  {
   "cell_type": "markdown",
   "id": "a1f55b62",
   "metadata": {},
   "source": [
    "### 1.3 Getting TFIDF with reduced dimensionality"
   ]
  },
  {
   "cell_type": "code",
   "execution_count": 19,
   "id": "729c7b6d",
   "metadata": {},
   "outputs": [],
   "source": [
    "docs_phrased_str = [\" \".join(doc) for doc in docs_phrased]"
   ]
  },
  {
   "cell_type": "code",
   "execution_count": 20,
   "id": "683d523d",
   "metadata": {},
   "outputs": [],
   "source": [
    "from sklearn.feature_extraction.text import TfidfVectorizer\n",
    "\n",
    "# Convert the preprocessed text and labels into a format that can be used by the classifier\n",
    "vectorizer = TfidfVectorizer(stop_words='english', ngram_range=(1,2), max_df=0.8, max_features=10000)\n"
   ]
  },
  {
   "cell_type": "code",
   "execution_count": 21,
   "id": "14c06b73",
   "metadata": {},
   "outputs": [],
   "source": [
    "c_vectors = vectorizer.fit_transform(docs_phrased_str)"
   ]
  },
  {
   "cell_type": "code",
   "execution_count": 22,
   "id": "d8a5beda",
   "metadata": {},
   "outputs": [],
   "source": [
    "# using truncated SVD to find dimension reduced vectors, truncated SVD works with sparse vectors, which TFIDF vectors are\n",
    "\n",
    "svd = TruncatedSVD(n_components=c_vec_size, n_iter=10, random_state=123)"
   ]
  },
  {
   "cell_type": "code",
   "execution_count": 23,
   "id": "5146a059",
   "metadata": {},
   "outputs": [],
   "source": [
    "c_vectors = svd.fit_transform(c_vectors)"
   ]
  },
  {
   "cell_type": "code",
   "execution_count": 24,
   "id": "89070ba4",
   "metadata": {},
   "outputs": [],
   "source": [
    "# applying MinMaxScaler to reduced dim. TFIDF vectors\n",
    "\n",
    "c_vectors = MinMaxScaler().fit_transform(c_vectors)\n",
    "c_vectors = pd.DataFrame(c_vectors, columns = [\"c{}\".format(i) for i in range(1, c_vec_size + 1)])"
   ]
  },
  {
   "cell_type": "code",
   "execution_count": 25,
   "id": "5eb29789",
   "metadata": {},
   "outputs": [
    {
     "data": {
      "text/html": [
       "<div>\n",
       "<style scoped>\n",
       "    .dataframe tbody tr th:only-of-type {\n",
       "        vertical-align: middle;\n",
       "    }\n",
       "\n",
       "    .dataframe tbody tr th {\n",
       "        vertical-align: top;\n",
       "    }\n",
       "\n",
       "    .dataframe thead th {\n",
       "        text-align: right;\n",
       "    }\n",
       "</style>\n",
       "<table border=\"1\" class=\"dataframe\">\n",
       "  <thead>\n",
       "    <tr style=\"text-align: right;\">\n",
       "      <th></th>\n",
       "      <th>c1</th>\n",
       "      <th>c2</th>\n",
       "      <th>c3</th>\n",
       "      <th>c4</th>\n",
       "      <th>c5</th>\n",
       "      <th>c6</th>\n",
       "      <th>c7</th>\n",
       "      <th>c8</th>\n",
       "      <th>c9</th>\n",
       "      <th>c10</th>\n",
       "      <th>...</th>\n",
       "      <th>topic_41</th>\n",
       "      <th>topic_42</th>\n",
       "      <th>topic_43</th>\n",
       "      <th>topic_44</th>\n",
       "      <th>topic_45</th>\n",
       "      <th>topic_46</th>\n",
       "      <th>topic_47</th>\n",
       "      <th>topic_48</th>\n",
       "      <th>topic_49</th>\n",
       "      <th>topic_50</th>\n",
       "    </tr>\n",
       "  </thead>\n",
       "  <tbody>\n",
       "    <tr>\n",
       "      <th>0</th>\n",
       "      <td>0.287391</td>\n",
       "      <td>0.331234</td>\n",
       "      <td>0.272307</td>\n",
       "      <td>0.806807</td>\n",
       "      <td>0.506503</td>\n",
       "      <td>0.429307</td>\n",
       "      <td>0.310766</td>\n",
       "      <td>0.307042</td>\n",
       "      <td>0.263885</td>\n",
       "      <td>0.527763</td>\n",
       "      <td>...</td>\n",
       "      <td>0.002536</td>\n",
       "      <td>0.002294</td>\n",
       "      <td>0.002457</td>\n",
       "      <td>0.023516</td>\n",
       "      <td>0.002610</td>\n",
       "      <td>0.365300</td>\n",
       "      <td>0.002859</td>\n",
       "      <td>0.002291</td>\n",
       "      <td>0.002112</td>\n",
       "      <td>0.002660</td>\n",
       "    </tr>\n",
       "    <tr>\n",
       "      <th>1</th>\n",
       "      <td>0.438792</td>\n",
       "      <td>0.224583</td>\n",
       "      <td>0.194151</td>\n",
       "      <td>0.687349</td>\n",
       "      <td>0.493950</td>\n",
       "      <td>0.454487</td>\n",
       "      <td>0.368918</td>\n",
       "      <td>0.261627</td>\n",
       "      <td>0.424187</td>\n",
       "      <td>0.462592</td>\n",
       "      <td>...</td>\n",
       "      <td>0.003982</td>\n",
       "      <td>0.003602</td>\n",
       "      <td>0.003858</td>\n",
       "      <td>0.003389</td>\n",
       "      <td>0.004098</td>\n",
       "      <td>0.070554</td>\n",
       "      <td>0.038021</td>\n",
       "      <td>0.003597</td>\n",
       "      <td>0.003315</td>\n",
       "      <td>0.004176</td>\n",
       "    </tr>\n",
       "  </tbody>\n",
       "</table>\n",
       "<p>2 rows × 150 columns</p>\n",
       "</div>"
      ],
      "text/plain": [
       "         c1        c2        c3        c4        c5        c6        c7  \\\n",
       "0  0.287391  0.331234  0.272307  0.806807  0.506503  0.429307  0.310766   \n",
       "1  0.438792  0.224583  0.194151  0.687349  0.493950  0.454487  0.368918   \n",
       "\n",
       "         c8        c9       c10  ...  topic_41  topic_42  topic_43  topic_44  \\\n",
       "0  0.307042  0.263885  0.527763  ...  0.002536  0.002294  0.002457  0.023516   \n",
       "1  0.261627  0.424187  0.462592  ...  0.003982  0.003602  0.003858  0.003389   \n",
       "\n",
       "   topic_45  topic_46  topic_47  topic_48  topic_49  topic_50  \n",
       "0  0.002610  0.365300  0.002859  0.002291  0.002112  0.002660  \n",
       "1  0.004098  0.070554  0.038021  0.003597  0.003315  0.004176  \n",
       "\n",
       "[2 rows x 150 columns]"
      ]
     },
     "execution_count": 25,
     "metadata": {},
     "output_type": "execute_result"
    }
   ],
   "source": [
    "# getting all the vectors together to form final vector representation\n",
    "\n",
    "data = pd.concat([c_vectors, d2v_vectors, topic_dist], axis=1, join = \"inner\")\n",
    "\n",
    "data.head(2)"
   ]
  },
  {
   "cell_type": "code",
   "execution_count": 26,
   "id": "1ae912e2",
   "metadata": {},
   "outputs": [
    {
     "data": {
      "text/html": [
       "<div>\n",
       "<style scoped>\n",
       "    .dataframe tbody tr th:only-of-type {\n",
       "        vertical-align: middle;\n",
       "    }\n",
       "\n",
       "    .dataframe tbody tr th {\n",
       "        vertical-align: top;\n",
       "    }\n",
       "\n",
       "    .dataframe thead th {\n",
       "        text-align: right;\n",
       "    }\n",
       "</style>\n",
       "<table border=\"1\" class=\"dataframe\">\n",
       "  <thead>\n",
       "    <tr style=\"text-align: right;\">\n",
       "      <th></th>\n",
       "      <th>label</th>\n",
       "    </tr>\n",
       "  </thead>\n",
       "  <tbody>\n",
       "    <tr>\n",
       "      <th>0</th>\n",
       "      <td>0</td>\n",
       "    </tr>\n",
       "    <tr>\n",
       "      <th>1</th>\n",
       "      <td>0</td>\n",
       "    </tr>\n",
       "    <tr>\n",
       "      <th>2</th>\n",
       "      <td>0</td>\n",
       "    </tr>\n",
       "    <tr>\n",
       "      <th>3</th>\n",
       "      <td>0</td>\n",
       "    </tr>\n",
       "    <tr>\n",
       "      <th>4</th>\n",
       "      <td>0</td>\n",
       "    </tr>\n",
       "    <tr>\n",
       "      <th>...</th>\n",
       "      <td>...</td>\n",
       "    </tr>\n",
       "    <tr>\n",
       "      <th>21039</th>\n",
       "      <td>2</td>\n",
       "    </tr>\n",
       "    <tr>\n",
       "      <th>21040</th>\n",
       "      <td>2</td>\n",
       "    </tr>\n",
       "    <tr>\n",
       "      <th>21041</th>\n",
       "      <td>2</td>\n",
       "    </tr>\n",
       "    <tr>\n",
       "      <th>21042</th>\n",
       "      <td>2</td>\n",
       "    </tr>\n",
       "    <tr>\n",
       "      <th>21043</th>\n",
       "      <td>2</td>\n",
       "    </tr>\n",
       "  </tbody>\n",
       "</table>\n",
       "<p>21044 rows × 1 columns</p>\n",
       "</div>"
      ],
      "text/plain": [
       "       label\n",
       "0          0\n",
       "1          0\n",
       "2          0\n",
       "3          0\n",
       "4          0\n",
       "...      ...\n",
       "21039      2\n",
       "21040      2\n",
       "21041      2\n",
       "21042      2\n",
       "21043      2\n",
       "\n",
       "[21044 rows x 1 columns]"
      ]
     },
     "execution_count": 26,
     "metadata": {},
     "output_type": "execute_result"
    }
   ],
   "source": [
    "labels = pd.DataFrame(df_clean_train[\"label\"])\n",
    "\n",
    "labels.set_index(np.arange(0, len(df_clean_train[\"label\"]), 1))"
   ]
  },
  {
   "cell_type": "markdown",
   "id": "3297ed13",
   "metadata": {},
   "source": [
    "## 2. Different classifiers\n"
   ]
  },
  {
   "cell_type": "markdown",
   "id": "27b26d56",
   "metadata": {},
   "source": [
    "###### Classification using just TFIDF"
   ]
  },
  {
   "cell_type": "code",
   "execution_count": 110,
   "id": "68a08fa7",
   "metadata": {},
   "outputs": [],
   "source": [
    "X = c_vectors\n",
    "y = labels\n",
    "\n",
    "# Split the data into training and validation sets\n",
    "X_train, X_val, y_train, y_val = train_test_split(X, y, test_size=0.2, random_state=42)"
   ]
  },
  {
   "cell_type": "code",
   "execution_count": 111,
   "id": "dfb25c77",
   "metadata": {},
   "outputs": [
    {
     "name": "stdout",
     "output_type": "stream",
     "text": [
      "F1 Score: 0.5460540135564503\n"
     ]
    }
   ],
   "source": [
    "# Train the classifier\n",
    "classifier = LogisticRegression(max_iter=10000,solver='saga')\n",
    "\n",
    "classifier.fit(X_train, y_train['label'])\n",
    "\n",
    "# Make predictions on the validation set\n",
    "y_pred = classifier.predict(X_val)\n",
    "\n",
    "# Compute the F1 score\n",
    "f1 = f1_score(y_val['label'], y_pred, average='macro')\n",
    "\n",
    "print(f'F1 Score: {f1}')\n"
   ]
  },
  {
   "cell_type": "code",
   "execution_count": 112,
   "id": "39b5669a",
   "metadata": {},
   "outputs": [
    {
     "name": "stdout",
     "output_type": "stream",
     "text": [
      "F1 Score: 0.540247296457597\n"
     ]
    }
   ],
   "source": [
    "classifier = SVC()\n",
    "classifier.fit(X_train, y_train['label'])\n",
    "\n",
    "# Make predictions on the validation set\n",
    "y_pred = classifier.predict(X_val)\n",
    "\n",
    "# Compute the F1 score\n",
    "f1 = f1_score(y_val['label'], y_pred, average='macro')\n",
    "\n",
    "print(f'F1 Score: {f1}')"
   ]
  },
  {
   "cell_type": "code",
   "execution_count": 113,
   "id": "04e22c0d",
   "metadata": {},
   "outputs": [
    {
     "data": {
      "text/plain": [
       "0.5089673645357952"
      ]
     },
     "execution_count": 113,
     "metadata": {},
     "output_type": "execute_result"
    }
   ],
   "source": [
    "RFC = RandomForestClassifier(random_state=123)\n",
    "\n",
    "RFC.fit(X_train, y_train[\"label\"])\n",
    "\n",
    "y_pred_rfc = RFC.predict(X_val)\n",
    "f1_rbc = f1_score(y_pred_rfc, y_val['label'], average=\"macro\")\n",
    "f1_rbc"
   ]
  },
  {
   "cell_type": "code",
   "execution_count": 114,
   "id": "9e0cdbff",
   "metadata": {},
   "outputs": [
    {
     "data": {
      "text/plain": [
       "0.4973228353700347"
      ]
     },
     "execution_count": 114,
     "metadata": {},
     "output_type": "execute_result"
    }
   ],
   "source": [
    "MN = MultinomialNB()\n",
    "\n",
    "MN.fit(X_train, y_train[\"label\"])\n",
    "\n",
    "y_pred_mn = MN.predict(X_val)\n",
    "f1_mn = f1_score(y_pred_mn, y_val['label'], average=\"macro\")\n",
    "f1_mn"
   ]
  },
  {
   "cell_type": "markdown",
   "id": "7d81b149",
   "metadata": {},
   "source": [
    "###### Classification using just Doc2Vec"
   ]
  },
  {
   "cell_type": "code",
   "execution_count": 115,
   "id": "787b081d",
   "metadata": {},
   "outputs": [],
   "source": [
    "X = d2v_vectors\n",
    "y = labels\n",
    "\n",
    "# Split the data into training and validation sets\n",
    "X_train, X_val, y_train, y_val = train_test_split(X, y, test_size=0.2, random_state=42)"
   ]
  },
  {
   "cell_type": "code",
   "execution_count": 116,
   "id": "24a933c7",
   "metadata": {},
   "outputs": [
    {
     "name": "stdout",
     "output_type": "stream",
     "text": [
      "F1 Score: 0.3969370786640754\n"
     ]
    }
   ],
   "source": [
    "# Train the classifier\n",
    "classifier = LogisticRegression(max_iter=10000,solver='saga')\n",
    "\n",
    "classifier.fit(X_train, y_train['label'])\n",
    "\n",
    "# Make predictions on the validation set\n",
    "y_pred = classifier.predict(X_val)\n",
    "\n",
    "# Compute the F1 score\n",
    "f1 = f1_score(y_val['label'], y_pred, average='macro')\n",
    "\n",
    "print(f'F1 Score: {f1}')\n"
   ]
  },
  {
   "cell_type": "code",
   "execution_count": 117,
   "id": "9047f275",
   "metadata": {},
   "outputs": [
    {
     "name": "stdout",
     "output_type": "stream",
     "text": [
      "F1 Score: 0.42897779525432217\n"
     ]
    }
   ],
   "source": [
    "classifier = SVC()\n",
    "classifier.fit(X_train, y_train['label'])\n",
    "\n",
    "# Make predictions on the validation set\n",
    "y_pred = classifier.predict(X_val)\n",
    "\n",
    "# Compute the F1 score\n",
    "f1 = f1_score(y_val['label'], y_pred, average='macro')\n",
    "\n",
    "print(f'F1 Score: {f1}')"
   ]
  },
  {
   "cell_type": "code",
   "execution_count": 118,
   "id": "4ea27b46",
   "metadata": {},
   "outputs": [
    {
     "data": {
      "text/plain": [
       "0.3978967507834348"
      ]
     },
     "execution_count": 118,
     "metadata": {},
     "output_type": "execute_result"
    }
   ],
   "source": [
    "RFC = RandomForestClassifier(random_state=123)\n",
    "\n",
    "RFC.fit(X_train, y_train[\"label\"])\n",
    "\n",
    "y_pred_rfc = RFC.predict(X_val)\n",
    "f1_rbc = f1_score(y_pred_rfc, y_val['label'], average=\"macro\")\n",
    "f1_rbc"
   ]
  },
  {
   "cell_type": "code",
   "execution_count": 119,
   "id": "552bc00d",
   "metadata": {},
   "outputs": [
    {
     "data": {
      "text/plain": [
       "0.33737636791176545"
      ]
     },
     "execution_count": 119,
     "metadata": {},
     "output_type": "execute_result"
    }
   ],
   "source": [
    "MN = MultinomialNB()\n",
    "\n",
    "MN.fit(X_train, y_train[\"label\"])\n",
    "\n",
    "y_pred_mn = MN.predict(X_val)\n",
    "f1_mn = f1_score(y_pred_mn, y_val['label'], average=\"macro\")\n",
    "f1_mn"
   ]
  },
  {
   "cell_type": "markdown",
   "id": "72bf31e5",
   "metadata": {},
   "source": [
    "###### Classification using just Topic probabilities"
   ]
  },
  {
   "cell_type": "code",
   "execution_count": 120,
   "id": "824713cf",
   "metadata": {},
   "outputs": [],
   "source": [
    "X = topic_dist\n",
    "y = labels\n",
    "\n",
    "# Split the data into training and validation sets\n",
    "X_train, X_val, y_train, y_val = train_test_split(X, y, test_size=0.2, random_state=42)"
   ]
  },
  {
   "cell_type": "code",
   "execution_count": 121,
   "id": "6916af01",
   "metadata": {},
   "outputs": [
    {
     "name": "stdout",
     "output_type": "stream",
     "text": [
      "F1 Score: 0.4726967682944097\n"
     ]
    }
   ],
   "source": [
    "# Train the classifier\n",
    "classifier = LogisticRegression(max_iter=10000,solver='saga')\n",
    "\n",
    "classifier.fit(X_train, y_train['label'])\n",
    "\n",
    "# Make predictions on the validation set\n",
    "y_pred = classifier.predict(X_val)\n",
    "\n",
    "# Compute the F1 score\n",
    "f1 = f1_score(y_val['label'], y_pred, average='macro')\n",
    "\n",
    "print(f'F1 Score: {f1}')\n"
   ]
  },
  {
   "cell_type": "code",
   "execution_count": 122,
   "id": "9a6e3213",
   "metadata": {},
   "outputs": [
    {
     "name": "stdout",
     "output_type": "stream",
     "text": [
      "F1 Score: 0.46932442021496384\n"
     ]
    }
   ],
   "source": [
    "classifier = SVC()\n",
    "classifier.fit(X_train, y_train['label'])\n",
    "\n",
    "# Make predictions on the validation set\n",
    "y_pred = classifier.predict(X_val)\n",
    "\n",
    "# Compute the F1 score\n",
    "f1 = f1_score(y_val['label'], y_pred, average='macro')\n",
    "\n",
    "print(f'F1 Score: {f1}')"
   ]
  },
  {
   "cell_type": "code",
   "execution_count": 123,
   "id": "444b2793",
   "metadata": {},
   "outputs": [
    {
     "data": {
      "text/plain": [
       "0.4621960929780154"
      ]
     },
     "execution_count": 123,
     "metadata": {},
     "output_type": "execute_result"
    }
   ],
   "source": [
    "RFC = RandomForestClassifier(random_state=123)\n",
    "\n",
    "RFC.fit(X_train, y_train[\"label\"])\n",
    "\n",
    "y_pred_rfc = RFC.predict(X_val)\n",
    "f1_rbc = f1_score(y_pred_rfc, y_val['label'], average=\"macro\")\n",
    "f1_rbc"
   ]
  },
  {
   "cell_type": "code",
   "execution_count": 124,
   "id": "81c07cec",
   "metadata": {},
   "outputs": [
    {
     "data": {
      "text/plain": [
       "0.4614053078313383"
      ]
     },
     "execution_count": 124,
     "metadata": {},
     "output_type": "execute_result"
    }
   ],
   "source": [
    "MN = MultinomialNB()\n",
    "\n",
    "MN.fit(X_train, y_train[\"label\"])\n",
    "\n",
    "y_pred_mn = MN.predict(X_val)\n",
    "f1_mn = f1_score(y_pred_mn, y_val['label'], average=\"macro\")\n",
    "f1_mn"
   ]
  },
  {
   "cell_type": "markdown",
   "id": "39bfdd7e",
   "metadata": {},
   "source": [
    "#### Combining all the features and using multiple classifiers"
   ]
  },
  {
   "cell_type": "code",
   "execution_count": 125,
   "id": "98c32390",
   "metadata": {},
   "outputs": [],
   "source": [
    "X_train, X_val, y_train, y_val = train_test_split(data, labels, test_size=0.2, random_state=52)"
   ]
  },
  {
   "cell_type": "code",
   "execution_count": 126,
   "id": "3eea98c1",
   "metadata": {},
   "outputs": [],
   "source": [
    "# Define the scoring function with nan_to_num to ignore nan values\n",
    "def f1_scorer(y_true, y_pred):\n",
    "    return np.nan_to_num(f1_score(y_true, y_pred, average='macro'))"
   ]
  },
  {
   "cell_type": "markdown",
   "id": "3dca8a05",
   "metadata": {},
   "source": [
    "###### Using Logistic regression"
   ]
  },
  {
   "cell_type": "code",
   "execution_count": 127,
   "id": "830b16da",
   "metadata": {},
   "outputs": [
    {
     "name": "stderr",
     "output_type": "stream",
     "text": [
      "C:\\Users\\karti\\anaconda3\\envs\\nlp\\lib\\site-packages\\sklearn\\model_selection\\_search.py:952: UserWarning: One or more of the test scores are non-finite: [nan nan]\n",
      "  warnings.warn(\n"
     ]
    },
    {
     "name": "stdout",
     "output_type": "stream",
     "text": [
      "Best Hyperparameters: {'max_iter': 2000}\n"
     ]
    }
   ],
   "source": [
    "# Create the LogisticRegression model\n",
    "lrc = LogisticRegression(multi_class=\"multinomial\", random_state=123, solver=\"saga\")\n",
    "\n",
    "# Define the hyperparameter grid\n",
    "param_grid = {\n",
    "    'max_iter': [2000, 4000, 5000, 10000]\n",
    "}\n",
    "\n",
    "# Initialize RandomizedSearchCV with 2-fold cross-validation and 10 random parameter combinations\n",
    "random_search = RandomizedSearchCV(lrc, param_distributions=param_grid, n_iter=2, cv=2, scoring=f1_scorer, n_jobs=-1)\n",
    "\n",
    "# Fit the model on the training data\n",
    "random_search.fit(X_train, y_train['label'])\n",
    "\n",
    "# Get the best hyperparameters and the corresponding F1 score\n",
    "best_params = random_search.best_params_\n",
    "\n",
    "print(\"Best Hyperparameters:\", best_params)"
   ]
  },
  {
   "cell_type": "code",
   "execution_count": 128,
   "id": "cbf8f7ae",
   "metadata": {},
   "outputs": [],
   "source": [
    "# Create a new GradientBoostingClassifier with the optimal settings\n",
    "best_lrc = LogisticRegression(multi_class=\"multinomial\",\n",
    "                                      max_iter = best_params['max_iter'],\n",
    "                                      solver=\"saga\",\n",
    "                                      random_state=123)"
   ]
  },
  {
   "cell_type": "code",
   "execution_count": 129,
   "id": "71cede48",
   "metadata": {},
   "outputs": [
    {
     "data": {
      "text/html": [
       "<style>#sk-container-id-12 {color: black;background-color: white;}#sk-container-id-12 pre{padding: 0;}#sk-container-id-12 div.sk-toggleable {background-color: white;}#sk-container-id-12 label.sk-toggleable__label {cursor: pointer;display: block;width: 100%;margin-bottom: 0;padding: 0.3em;box-sizing: border-box;text-align: center;}#sk-container-id-12 label.sk-toggleable__label-arrow:before {content: \"▸\";float: left;margin-right: 0.25em;color: #696969;}#sk-container-id-12 label.sk-toggleable__label-arrow:hover:before {color: black;}#sk-container-id-12 div.sk-estimator:hover label.sk-toggleable__label-arrow:before {color: black;}#sk-container-id-12 div.sk-toggleable__content {max-height: 0;max-width: 0;overflow: hidden;text-align: left;background-color: #f0f8ff;}#sk-container-id-12 div.sk-toggleable__content pre {margin: 0.2em;color: black;border-radius: 0.25em;background-color: #f0f8ff;}#sk-container-id-12 input.sk-toggleable__control:checked~div.sk-toggleable__content {max-height: 200px;max-width: 100%;overflow: auto;}#sk-container-id-12 input.sk-toggleable__control:checked~label.sk-toggleable__label-arrow:before {content: \"▾\";}#sk-container-id-12 div.sk-estimator input.sk-toggleable__control:checked~label.sk-toggleable__label {background-color: #d4ebff;}#sk-container-id-12 div.sk-label input.sk-toggleable__control:checked~label.sk-toggleable__label {background-color: #d4ebff;}#sk-container-id-12 input.sk-hidden--visually {border: 0;clip: rect(1px 1px 1px 1px);clip: rect(1px, 1px, 1px, 1px);height: 1px;margin: -1px;overflow: hidden;padding: 0;position: absolute;width: 1px;}#sk-container-id-12 div.sk-estimator {font-family: monospace;background-color: #f0f8ff;border: 1px dotted black;border-radius: 0.25em;box-sizing: border-box;margin-bottom: 0.5em;}#sk-container-id-12 div.sk-estimator:hover {background-color: #d4ebff;}#sk-container-id-12 div.sk-parallel-item::after {content: \"\";width: 100%;border-bottom: 1px solid gray;flex-grow: 1;}#sk-container-id-12 div.sk-label:hover label.sk-toggleable__label {background-color: #d4ebff;}#sk-container-id-12 div.sk-serial::before {content: \"\";position: absolute;border-left: 1px solid gray;box-sizing: border-box;top: 0;bottom: 0;left: 50%;z-index: 0;}#sk-container-id-12 div.sk-serial {display: flex;flex-direction: column;align-items: center;background-color: white;padding-right: 0.2em;padding-left: 0.2em;position: relative;}#sk-container-id-12 div.sk-item {position: relative;z-index: 1;}#sk-container-id-12 div.sk-parallel {display: flex;align-items: stretch;justify-content: center;background-color: white;position: relative;}#sk-container-id-12 div.sk-item::before, #sk-container-id-12 div.sk-parallel-item::before {content: \"\";position: absolute;border-left: 1px solid gray;box-sizing: border-box;top: 0;bottom: 0;left: 50%;z-index: -1;}#sk-container-id-12 div.sk-parallel-item {display: flex;flex-direction: column;z-index: 1;position: relative;background-color: white;}#sk-container-id-12 div.sk-parallel-item:first-child::after {align-self: flex-end;width: 50%;}#sk-container-id-12 div.sk-parallel-item:last-child::after {align-self: flex-start;width: 50%;}#sk-container-id-12 div.sk-parallel-item:only-child::after {width: 0;}#sk-container-id-12 div.sk-dashed-wrapped {border: 1px dashed gray;margin: 0 0.4em 0.5em 0.4em;box-sizing: border-box;padding-bottom: 0.4em;background-color: white;}#sk-container-id-12 div.sk-label label {font-family: monospace;font-weight: bold;display: inline-block;line-height: 1.2em;}#sk-container-id-12 div.sk-label-container {text-align: center;}#sk-container-id-12 div.sk-container {/* jupyter's `normalize.less` sets `[hidden] { display: none; }` but bootstrap.min.css set `[hidden] { display: none !important; }` so we also need the `!important` here to be able to override the default hidden behavior on the sphinx rendered scikit-learn.org. See: https://github.com/scikit-learn/scikit-learn/issues/21755 */display: inline-block !important;position: relative;}#sk-container-id-12 div.sk-text-repr-fallback {display: none;}</style><div id=\"sk-container-id-12\" class=\"sk-top-container\"><div class=\"sk-text-repr-fallback\"><pre>LogisticRegression(max_iter=2000, multi_class=&#x27;multinomial&#x27;, random_state=123,\n",
       "                   solver=&#x27;saga&#x27;)</pre><b>In a Jupyter environment, please rerun this cell to show the HTML representation or trust the notebook. <br />On GitHub, the HTML representation is unable to render, please try loading this page with nbviewer.org.</b></div><div class=\"sk-container\" hidden><div class=\"sk-item\"><div class=\"sk-estimator sk-toggleable\"><input class=\"sk-toggleable__control sk-hidden--visually\" id=\"sk-estimator-id-32\" type=\"checkbox\" checked><label for=\"sk-estimator-id-32\" class=\"sk-toggleable__label sk-toggleable__label-arrow\">LogisticRegression</label><div class=\"sk-toggleable__content\"><pre>LogisticRegression(max_iter=2000, multi_class=&#x27;multinomial&#x27;, random_state=123,\n",
       "                   solver=&#x27;saga&#x27;)</pre></div></div></div></div></div>"
      ],
      "text/plain": [
       "LogisticRegression(max_iter=2000, multi_class='multinomial', random_state=123,\n",
       "                   solver='saga')"
      ]
     },
     "execution_count": 129,
     "metadata": {},
     "output_type": "execute_result"
    }
   ],
   "source": [
    "best_lrc.fit(X_train, y_train[\"label\"])"
   ]
  },
  {
   "cell_type": "code",
   "execution_count": 130,
   "id": "c2a6bdcc",
   "metadata": {},
   "outputs": [],
   "source": [
    "y_pred_lrc = best_lrc.predict(X_val)"
   ]
  },
  {
   "cell_type": "code",
   "execution_count": 131,
   "id": "d5e1f09e",
   "metadata": {},
   "outputs": [
    {
     "name": "stdout",
     "output_type": "stream",
     "text": [
      "F1 Score on Test Set: 0.6020102981053088\n"
     ]
    }
   ],
   "source": [
    "# Evaluate the model on the test set using F1 score\n",
    "test_f1_score = f1_score(y_val['label'], y_pred_lrc, average = 'macro')\n",
    "print(\"F1 Score on Test Set:\", test_f1_score)"
   ]
  },
  {
   "cell_type": "markdown",
   "id": "0e562264",
   "metadata": {},
   "source": [
    "###### Using SVC"
   ]
  },
  {
   "cell_type": "code",
   "execution_count": 132,
   "id": "0e91bf62",
   "metadata": {},
   "outputs": [
    {
     "name": "stderr",
     "output_type": "stream",
     "text": [
      "C:\\Users\\karti\\anaconda3\\envs\\nlp\\lib\\site-packages\\sklearn\\model_selection\\_search.py:952: UserWarning: One or more of the test scores are non-finite: [nan nan nan nan nan nan nan nan nan nan]\n",
      "  warnings.warn(\n"
     ]
    },
    {
     "name": "stdout",
     "output_type": "stream",
     "text": [
      "Best Hyperparameters: {'kernel': 'poly', 'gamma': 'auto', 'degree': 3, 'class_weight': 'balanced', 'C': 0.1}\n"
     ]
    }
   ],
   "source": [
    "# Create the SVC\n",
    "svc = SVC(random_state=123)\n",
    "\n",
    "# Define the hyperparameter distributions to sample from\n",
    "param_dist = {\n",
    "    'C': [0.1, 1.0, 10.0],\n",
    "    'kernel': ['linear', 'poly', 'rbf', 'sigmoid'],\n",
    "    'degree': [2, 3, 4],\n",
    "    'gamma': ['scale', 'auto'],\n",
    "    'class_weight': [None, 'balanced']\n",
    "}\n",
    "\n",
    "# Initialize RandomizedSearchCV with 3-fold cross-validation\n",
    "random_search = RandomizedSearchCV(svc, param_distributions=param_dist, n_iter=10, cv=3, scoring=f1_scorer , random_state=123, n_jobs=-1)\n",
    "\n",
    "# Fit the model on the training data\n",
    "random_search.fit(X_train, y_train['label'])\n",
    "\n",
    "# Get the best hyperparameters \n",
    "best_params = random_search.best_params_\n",
    "\n",
    "# Print the best hyperparameters \n",
    "print(\"Best Hyperparameters:\", best_params)"
   ]
  },
  {
   "cell_type": "code",
   "execution_count": 133,
   "id": "7d4c1097",
   "metadata": {},
   "outputs": [],
   "source": [
    "# Create a new SVC with the optimal settings\n",
    "best_svc = SVC(C=best_params['C'],\n",
    "               kernel=best_params['kernel'],\n",
    "               degree=best_params['degree'],\n",
    "               gamma=best_params['gamma'],\n",
    "               class_weight=best_params['class_weight'],\n",
    "               random_state=123)"
   ]
  },
  {
   "cell_type": "code",
   "execution_count": 134,
   "id": "7373248a",
   "metadata": {},
   "outputs": [
    {
     "data": {
      "text/html": [
       "<style>#sk-container-id-13 {color: black;background-color: white;}#sk-container-id-13 pre{padding: 0;}#sk-container-id-13 div.sk-toggleable {background-color: white;}#sk-container-id-13 label.sk-toggleable__label {cursor: pointer;display: block;width: 100%;margin-bottom: 0;padding: 0.3em;box-sizing: border-box;text-align: center;}#sk-container-id-13 label.sk-toggleable__label-arrow:before {content: \"▸\";float: left;margin-right: 0.25em;color: #696969;}#sk-container-id-13 label.sk-toggleable__label-arrow:hover:before {color: black;}#sk-container-id-13 div.sk-estimator:hover label.sk-toggleable__label-arrow:before {color: black;}#sk-container-id-13 div.sk-toggleable__content {max-height: 0;max-width: 0;overflow: hidden;text-align: left;background-color: #f0f8ff;}#sk-container-id-13 div.sk-toggleable__content pre {margin: 0.2em;color: black;border-radius: 0.25em;background-color: #f0f8ff;}#sk-container-id-13 input.sk-toggleable__control:checked~div.sk-toggleable__content {max-height: 200px;max-width: 100%;overflow: auto;}#sk-container-id-13 input.sk-toggleable__control:checked~label.sk-toggleable__label-arrow:before {content: \"▾\";}#sk-container-id-13 div.sk-estimator input.sk-toggleable__control:checked~label.sk-toggleable__label {background-color: #d4ebff;}#sk-container-id-13 div.sk-label input.sk-toggleable__control:checked~label.sk-toggleable__label {background-color: #d4ebff;}#sk-container-id-13 input.sk-hidden--visually {border: 0;clip: rect(1px 1px 1px 1px);clip: rect(1px, 1px, 1px, 1px);height: 1px;margin: -1px;overflow: hidden;padding: 0;position: absolute;width: 1px;}#sk-container-id-13 div.sk-estimator {font-family: monospace;background-color: #f0f8ff;border: 1px dotted black;border-radius: 0.25em;box-sizing: border-box;margin-bottom: 0.5em;}#sk-container-id-13 div.sk-estimator:hover {background-color: #d4ebff;}#sk-container-id-13 div.sk-parallel-item::after {content: \"\";width: 100%;border-bottom: 1px solid gray;flex-grow: 1;}#sk-container-id-13 div.sk-label:hover label.sk-toggleable__label {background-color: #d4ebff;}#sk-container-id-13 div.sk-serial::before {content: \"\";position: absolute;border-left: 1px solid gray;box-sizing: border-box;top: 0;bottom: 0;left: 50%;z-index: 0;}#sk-container-id-13 div.sk-serial {display: flex;flex-direction: column;align-items: center;background-color: white;padding-right: 0.2em;padding-left: 0.2em;position: relative;}#sk-container-id-13 div.sk-item {position: relative;z-index: 1;}#sk-container-id-13 div.sk-parallel {display: flex;align-items: stretch;justify-content: center;background-color: white;position: relative;}#sk-container-id-13 div.sk-item::before, #sk-container-id-13 div.sk-parallel-item::before {content: \"\";position: absolute;border-left: 1px solid gray;box-sizing: border-box;top: 0;bottom: 0;left: 50%;z-index: -1;}#sk-container-id-13 div.sk-parallel-item {display: flex;flex-direction: column;z-index: 1;position: relative;background-color: white;}#sk-container-id-13 div.sk-parallel-item:first-child::after {align-self: flex-end;width: 50%;}#sk-container-id-13 div.sk-parallel-item:last-child::after {align-self: flex-start;width: 50%;}#sk-container-id-13 div.sk-parallel-item:only-child::after {width: 0;}#sk-container-id-13 div.sk-dashed-wrapped {border: 1px dashed gray;margin: 0 0.4em 0.5em 0.4em;box-sizing: border-box;padding-bottom: 0.4em;background-color: white;}#sk-container-id-13 div.sk-label label {font-family: monospace;font-weight: bold;display: inline-block;line-height: 1.2em;}#sk-container-id-13 div.sk-label-container {text-align: center;}#sk-container-id-13 div.sk-container {/* jupyter's `normalize.less` sets `[hidden] { display: none; }` but bootstrap.min.css set `[hidden] { display: none !important; }` so we also need the `!important` here to be able to override the default hidden behavior on the sphinx rendered scikit-learn.org. See: https://github.com/scikit-learn/scikit-learn/issues/21755 */display: inline-block !important;position: relative;}#sk-container-id-13 div.sk-text-repr-fallback {display: none;}</style><div id=\"sk-container-id-13\" class=\"sk-top-container\"><div class=\"sk-text-repr-fallback\"><pre>SVC(C=0.1, class_weight=&#x27;balanced&#x27;, gamma=&#x27;auto&#x27;, kernel=&#x27;poly&#x27;,\n",
       "    random_state=123)</pre><b>In a Jupyter environment, please rerun this cell to show the HTML representation or trust the notebook. <br />On GitHub, the HTML representation is unable to render, please try loading this page with nbviewer.org.</b></div><div class=\"sk-container\" hidden><div class=\"sk-item\"><div class=\"sk-estimator sk-toggleable\"><input class=\"sk-toggleable__control sk-hidden--visually\" id=\"sk-estimator-id-33\" type=\"checkbox\" checked><label for=\"sk-estimator-id-33\" class=\"sk-toggleable__label sk-toggleable__label-arrow\">SVC</label><div class=\"sk-toggleable__content\"><pre>SVC(C=0.1, class_weight=&#x27;balanced&#x27;, gamma=&#x27;auto&#x27;, kernel=&#x27;poly&#x27;,\n",
       "    random_state=123)</pre></div></div></div></div></div>"
      ],
      "text/plain": [
       "SVC(C=0.1, class_weight='balanced', gamma='auto', kernel='poly',\n",
       "    random_state=123)"
      ]
     },
     "execution_count": 134,
     "metadata": {},
     "output_type": "execute_result"
    }
   ],
   "source": [
    "best_svc.fit(X_train, y_train['label'])"
   ]
  },
  {
   "cell_type": "code",
   "execution_count": 135,
   "id": "ddd0d1f5",
   "metadata": {},
   "outputs": [],
   "source": [
    "# Predict on the test set\n",
    "y_pred = best_svc.predict(X_val)"
   ]
  },
  {
   "cell_type": "code",
   "execution_count": 136,
   "id": "b4b526d4",
   "metadata": {},
   "outputs": [
    {
     "name": "stdout",
     "output_type": "stream",
     "text": [
      "F1 Score on Test Set: 0.16325798349479728\n"
     ]
    }
   ],
   "source": [
    "# Evaluate the model on the test set using F1 score\n",
    "test_f1_score = f1_score(y_val['label'], y_pred, average = 'macro')\n",
    "print(\"F1 Score on Test Set:\", test_f1_score)"
   ]
  },
  {
   "cell_type": "markdown",
   "id": "79342b40",
   "metadata": {},
   "source": [
    "###### Using Random Forest"
   ]
  },
  {
   "cell_type": "code",
   "execution_count": 137,
   "id": "fe454d29",
   "metadata": {},
   "outputs": [
    {
     "name": "stderr",
     "output_type": "stream",
     "text": [
      "C:\\Users\\karti\\anaconda3\\envs\\nlp\\lib\\site-packages\\sklearn\\model_selection\\_search.py:952: UserWarning: One or more of the test scores are non-finite: [nan nan nan nan nan]\n",
      "  warnings.warn(\n"
     ]
    },
    {
     "name": "stdout",
     "output_type": "stream",
     "text": [
      "Best Hyperparameters: {'n_estimators': 50, 'min_samples_split': 10, 'min_samples_leaf': 1, 'max_depth': 20, 'class_weight': 'balanced_subsample'}\n"
     ]
    }
   ],
   "source": [
    "# Create the Random Forest Classifier\n",
    "rf = RandomForestClassifier(random_state=123)\n",
    "\n",
    "# Define the hyperparameter distributions to sample from\n",
    "param_dist = {\n",
    "    'n_estimators': [50, 100, 150],\n",
    "    'max_depth': [None, 10, 20],\n",
    "    'min_samples_split': [2, 5, 10],\n",
    "    'min_samples_leaf': [1, 2, 4],\n",
    "    'class_weight': [None, 'balanced', 'balanced_subsample']\n",
    "}\n",
    "\n",
    "# Initialize RandomizedSearchCV with 3-fold cross-validation\n",
    "random_search = RandomizedSearchCV(rf, param_distributions=param_dist, n_iter=5, cv=3, scoring=f1_scorer, random_state=123, n_jobs=-1)\n",
    "\n",
    "# Fit the model on the training data\n",
    "random_search.fit(X_train, y_train['label'])\n",
    "\n",
    "# Get the best hyperparameters \n",
    "best_params = random_search.best_params_\n",
    "\n",
    "# Print the best hyperparameters \n",
    "print(\"Best Hyperparameters:\", best_params)\n"
   ]
  },
  {
   "cell_type": "code",
   "execution_count": 138,
   "id": "434b257f",
   "metadata": {},
   "outputs": [],
   "source": [
    "# Create a new Random Forest Classifier with the optimal settings\n",
    "best_rf = RandomForestClassifier(n_estimators=best_params['n_estimators'],\n",
    "                                 max_depth=best_params['max_depth'],\n",
    "                                 min_samples_split=best_params['min_samples_split'],\n",
    "                                 min_samples_leaf=best_params['min_samples_leaf'],\n",
    "                                 class_weight=best_params['class_weight'],\n",
    "                                 random_state=123)"
   ]
  },
  {
   "cell_type": "code",
   "execution_count": 139,
   "id": "b938e619",
   "metadata": {},
   "outputs": [
    {
     "data": {
      "text/html": [
       "<style>#sk-container-id-14 {color: black;background-color: white;}#sk-container-id-14 pre{padding: 0;}#sk-container-id-14 div.sk-toggleable {background-color: white;}#sk-container-id-14 label.sk-toggleable__label {cursor: pointer;display: block;width: 100%;margin-bottom: 0;padding: 0.3em;box-sizing: border-box;text-align: center;}#sk-container-id-14 label.sk-toggleable__label-arrow:before {content: \"▸\";float: left;margin-right: 0.25em;color: #696969;}#sk-container-id-14 label.sk-toggleable__label-arrow:hover:before {color: black;}#sk-container-id-14 div.sk-estimator:hover label.sk-toggleable__label-arrow:before {color: black;}#sk-container-id-14 div.sk-toggleable__content {max-height: 0;max-width: 0;overflow: hidden;text-align: left;background-color: #f0f8ff;}#sk-container-id-14 div.sk-toggleable__content pre {margin: 0.2em;color: black;border-radius: 0.25em;background-color: #f0f8ff;}#sk-container-id-14 input.sk-toggleable__control:checked~div.sk-toggleable__content {max-height: 200px;max-width: 100%;overflow: auto;}#sk-container-id-14 input.sk-toggleable__control:checked~label.sk-toggleable__label-arrow:before {content: \"▾\";}#sk-container-id-14 div.sk-estimator input.sk-toggleable__control:checked~label.sk-toggleable__label {background-color: #d4ebff;}#sk-container-id-14 div.sk-label input.sk-toggleable__control:checked~label.sk-toggleable__label {background-color: #d4ebff;}#sk-container-id-14 input.sk-hidden--visually {border: 0;clip: rect(1px 1px 1px 1px);clip: rect(1px, 1px, 1px, 1px);height: 1px;margin: -1px;overflow: hidden;padding: 0;position: absolute;width: 1px;}#sk-container-id-14 div.sk-estimator {font-family: monospace;background-color: #f0f8ff;border: 1px dotted black;border-radius: 0.25em;box-sizing: border-box;margin-bottom: 0.5em;}#sk-container-id-14 div.sk-estimator:hover {background-color: #d4ebff;}#sk-container-id-14 div.sk-parallel-item::after {content: \"\";width: 100%;border-bottom: 1px solid gray;flex-grow: 1;}#sk-container-id-14 div.sk-label:hover label.sk-toggleable__label {background-color: #d4ebff;}#sk-container-id-14 div.sk-serial::before {content: \"\";position: absolute;border-left: 1px solid gray;box-sizing: border-box;top: 0;bottom: 0;left: 50%;z-index: 0;}#sk-container-id-14 div.sk-serial {display: flex;flex-direction: column;align-items: center;background-color: white;padding-right: 0.2em;padding-left: 0.2em;position: relative;}#sk-container-id-14 div.sk-item {position: relative;z-index: 1;}#sk-container-id-14 div.sk-parallel {display: flex;align-items: stretch;justify-content: center;background-color: white;position: relative;}#sk-container-id-14 div.sk-item::before, #sk-container-id-14 div.sk-parallel-item::before {content: \"\";position: absolute;border-left: 1px solid gray;box-sizing: border-box;top: 0;bottom: 0;left: 50%;z-index: -1;}#sk-container-id-14 div.sk-parallel-item {display: flex;flex-direction: column;z-index: 1;position: relative;background-color: white;}#sk-container-id-14 div.sk-parallel-item:first-child::after {align-self: flex-end;width: 50%;}#sk-container-id-14 div.sk-parallel-item:last-child::after {align-self: flex-start;width: 50%;}#sk-container-id-14 div.sk-parallel-item:only-child::after {width: 0;}#sk-container-id-14 div.sk-dashed-wrapped {border: 1px dashed gray;margin: 0 0.4em 0.5em 0.4em;box-sizing: border-box;padding-bottom: 0.4em;background-color: white;}#sk-container-id-14 div.sk-label label {font-family: monospace;font-weight: bold;display: inline-block;line-height: 1.2em;}#sk-container-id-14 div.sk-label-container {text-align: center;}#sk-container-id-14 div.sk-container {/* jupyter's `normalize.less` sets `[hidden] { display: none; }` but bootstrap.min.css set `[hidden] { display: none !important; }` so we also need the `!important` here to be able to override the default hidden behavior on the sphinx rendered scikit-learn.org. See: https://github.com/scikit-learn/scikit-learn/issues/21755 */display: inline-block !important;position: relative;}#sk-container-id-14 div.sk-text-repr-fallback {display: none;}</style><div id=\"sk-container-id-14\" class=\"sk-top-container\"><div class=\"sk-text-repr-fallback\"><pre>RandomForestClassifier(class_weight=&#x27;balanced_subsample&#x27;, max_depth=20,\n",
       "                       min_samples_split=10, n_estimators=50, random_state=123)</pre><b>In a Jupyter environment, please rerun this cell to show the HTML representation or trust the notebook. <br />On GitHub, the HTML representation is unable to render, please try loading this page with nbviewer.org.</b></div><div class=\"sk-container\" hidden><div class=\"sk-item\"><div class=\"sk-estimator sk-toggleable\"><input class=\"sk-toggleable__control sk-hidden--visually\" id=\"sk-estimator-id-34\" type=\"checkbox\" checked><label for=\"sk-estimator-id-34\" class=\"sk-toggleable__label sk-toggleable__label-arrow\">RandomForestClassifier</label><div class=\"sk-toggleable__content\"><pre>RandomForestClassifier(class_weight=&#x27;balanced_subsample&#x27;, max_depth=20,\n",
       "                       min_samples_split=10, n_estimators=50, random_state=123)</pre></div></div></div></div></div>"
      ],
      "text/plain": [
       "RandomForestClassifier(class_weight='balanced_subsample', max_depth=20,\n",
       "                       min_samples_split=10, n_estimators=50, random_state=123)"
      ]
     },
     "execution_count": 139,
     "metadata": {},
     "output_type": "execute_result"
    }
   ],
   "source": [
    "best_rf.fit(X_train, y_train['label'])"
   ]
  },
  {
   "cell_type": "code",
   "execution_count": 140,
   "id": "1548ab53",
   "metadata": {},
   "outputs": [],
   "source": [
    "# Predict on the test set\n",
    "y_pred = best_rf.predict(X_val)"
   ]
  },
  {
   "cell_type": "code",
   "execution_count": 141,
   "id": "ea53c3b1",
   "metadata": {},
   "outputs": [
    {
     "name": "stdout",
     "output_type": "stream",
     "text": [
      "F1 Score on Test Set: 0.5111933038828812\n"
     ]
    }
   ],
   "source": [
    "# Evaluate the model on the test set using F1 score\n",
    "test_f1_score = f1_score(y_val['label'], y_pred, average ='macro')\n",
    "print(\"F1 Score on Test Set:\", test_f1_score)"
   ]
  },
  {
   "cell_type": "code",
   "execution_count": 142,
   "id": "3adc577a",
   "metadata": {},
   "outputs": [
    {
     "name": "stdout",
     "output_type": "stream",
     "text": [
      "Best Hyperparameters: {'fit_prior': True, 'alpha': 0.1}\n"
     ]
    },
    {
     "name": "stderr",
     "output_type": "stream",
     "text": [
      "C:\\Users\\karti\\anaconda3\\envs\\nlp\\lib\\site-packages\\sklearn\\model_selection\\_search.py:952: UserWarning: One or more of the test scores are non-finite: [nan nan nan nan nan]\n",
      "  warnings.warn(\n"
     ]
    }
   ],
   "source": [
    "# Create the Multinomial Naive Bayes Classifier\n",
    "mnb = MultinomialNB()\n",
    "\n",
    "# Define the hyperparameter distributions to sample from\n",
    "param_dist = {\n",
    "    'alpha': [0.1, 0.5, 1.0, 2.0],\n",
    "    'fit_prior': [True, False]\n",
    "}\n",
    "\n",
    "# Initialize RandomizedSearchCV with 3-fold cross-validation\n",
    "random_search = RandomizedSearchCV(mnb, param_distributions=param_dist, n_iter=5, cv=3, scoring='f1', random_state=123, n_jobs=-1)\n",
    "\n",
    "# Fit the model on the training data\n",
    "random_search.fit(X_train, y_train['label'])\n",
    "\n",
    "# Get the best hyperparameters\n",
    "best_params = random_search.best_params_\n",
    "\n",
    "# Print the best hyperparameters\n",
    "print(\"Best Hyperparameters:\", best_params)"
   ]
  },
  {
   "cell_type": "code",
   "execution_count": 143,
   "id": "f3ff85a6",
   "metadata": {},
   "outputs": [],
   "source": [
    "# Create a new Random Forest Classifier with the optimal settings\n",
    "best_mnb = MultinomialNB(fit_prior = best_params['fit_prior'],\n",
    "                         alpha = best_params['alpha'] )"
   ]
  },
  {
   "cell_type": "code",
   "execution_count": 144,
   "id": "98536312",
   "metadata": {},
   "outputs": [
    {
     "data": {
      "text/html": [
       "<style>#sk-container-id-15 {color: black;background-color: white;}#sk-container-id-15 pre{padding: 0;}#sk-container-id-15 div.sk-toggleable {background-color: white;}#sk-container-id-15 label.sk-toggleable__label {cursor: pointer;display: block;width: 100%;margin-bottom: 0;padding: 0.3em;box-sizing: border-box;text-align: center;}#sk-container-id-15 label.sk-toggleable__label-arrow:before {content: \"▸\";float: left;margin-right: 0.25em;color: #696969;}#sk-container-id-15 label.sk-toggleable__label-arrow:hover:before {color: black;}#sk-container-id-15 div.sk-estimator:hover label.sk-toggleable__label-arrow:before {color: black;}#sk-container-id-15 div.sk-toggleable__content {max-height: 0;max-width: 0;overflow: hidden;text-align: left;background-color: #f0f8ff;}#sk-container-id-15 div.sk-toggleable__content pre {margin: 0.2em;color: black;border-radius: 0.25em;background-color: #f0f8ff;}#sk-container-id-15 input.sk-toggleable__control:checked~div.sk-toggleable__content {max-height: 200px;max-width: 100%;overflow: auto;}#sk-container-id-15 input.sk-toggleable__control:checked~label.sk-toggleable__label-arrow:before {content: \"▾\";}#sk-container-id-15 div.sk-estimator input.sk-toggleable__control:checked~label.sk-toggleable__label {background-color: #d4ebff;}#sk-container-id-15 div.sk-label input.sk-toggleable__control:checked~label.sk-toggleable__label {background-color: #d4ebff;}#sk-container-id-15 input.sk-hidden--visually {border: 0;clip: rect(1px 1px 1px 1px);clip: rect(1px, 1px, 1px, 1px);height: 1px;margin: -1px;overflow: hidden;padding: 0;position: absolute;width: 1px;}#sk-container-id-15 div.sk-estimator {font-family: monospace;background-color: #f0f8ff;border: 1px dotted black;border-radius: 0.25em;box-sizing: border-box;margin-bottom: 0.5em;}#sk-container-id-15 div.sk-estimator:hover {background-color: #d4ebff;}#sk-container-id-15 div.sk-parallel-item::after {content: \"\";width: 100%;border-bottom: 1px solid gray;flex-grow: 1;}#sk-container-id-15 div.sk-label:hover label.sk-toggleable__label {background-color: #d4ebff;}#sk-container-id-15 div.sk-serial::before {content: \"\";position: absolute;border-left: 1px solid gray;box-sizing: border-box;top: 0;bottom: 0;left: 50%;z-index: 0;}#sk-container-id-15 div.sk-serial {display: flex;flex-direction: column;align-items: center;background-color: white;padding-right: 0.2em;padding-left: 0.2em;position: relative;}#sk-container-id-15 div.sk-item {position: relative;z-index: 1;}#sk-container-id-15 div.sk-parallel {display: flex;align-items: stretch;justify-content: center;background-color: white;position: relative;}#sk-container-id-15 div.sk-item::before, #sk-container-id-15 div.sk-parallel-item::before {content: \"\";position: absolute;border-left: 1px solid gray;box-sizing: border-box;top: 0;bottom: 0;left: 50%;z-index: -1;}#sk-container-id-15 div.sk-parallel-item {display: flex;flex-direction: column;z-index: 1;position: relative;background-color: white;}#sk-container-id-15 div.sk-parallel-item:first-child::after {align-self: flex-end;width: 50%;}#sk-container-id-15 div.sk-parallel-item:last-child::after {align-self: flex-start;width: 50%;}#sk-container-id-15 div.sk-parallel-item:only-child::after {width: 0;}#sk-container-id-15 div.sk-dashed-wrapped {border: 1px dashed gray;margin: 0 0.4em 0.5em 0.4em;box-sizing: border-box;padding-bottom: 0.4em;background-color: white;}#sk-container-id-15 div.sk-label label {font-family: monospace;font-weight: bold;display: inline-block;line-height: 1.2em;}#sk-container-id-15 div.sk-label-container {text-align: center;}#sk-container-id-15 div.sk-container {/* jupyter's `normalize.less` sets `[hidden] { display: none; }` but bootstrap.min.css set `[hidden] { display: none !important; }` so we also need the `!important` here to be able to override the default hidden behavior on the sphinx rendered scikit-learn.org. See: https://github.com/scikit-learn/scikit-learn/issues/21755 */display: inline-block !important;position: relative;}#sk-container-id-15 div.sk-text-repr-fallback {display: none;}</style><div id=\"sk-container-id-15\" class=\"sk-top-container\"><div class=\"sk-text-repr-fallback\"><pre>MultinomialNB(alpha=0.1)</pre><b>In a Jupyter environment, please rerun this cell to show the HTML representation or trust the notebook. <br />On GitHub, the HTML representation is unable to render, please try loading this page with nbviewer.org.</b></div><div class=\"sk-container\" hidden><div class=\"sk-item\"><div class=\"sk-estimator sk-toggleable\"><input class=\"sk-toggleable__control sk-hidden--visually\" id=\"sk-estimator-id-35\" type=\"checkbox\" checked><label for=\"sk-estimator-id-35\" class=\"sk-toggleable__label sk-toggleable__label-arrow\">MultinomialNB</label><div class=\"sk-toggleable__content\"><pre>MultinomialNB(alpha=0.1)</pre></div></div></div></div></div>"
      ],
      "text/plain": [
       "MultinomialNB(alpha=0.1)"
      ]
     },
     "execution_count": 144,
     "metadata": {},
     "output_type": "execute_result"
    }
   ],
   "source": [
    "best_mnb.fit(X_train, y_train['label'])"
   ]
  },
  {
   "cell_type": "code",
   "execution_count": 145,
   "id": "671e7685",
   "metadata": {},
   "outputs": [],
   "source": [
    "# Predict on the test set\n",
    "y_pred = best_mnb.predict(X_val)"
   ]
  },
  {
   "cell_type": "code",
   "execution_count": 146,
   "id": "dd9a9e88",
   "metadata": {},
   "outputs": [
    {
     "name": "stdout",
     "output_type": "stream",
     "text": [
      "F1 Score on Test Set: 0.490309699600533\n"
     ]
    }
   ],
   "source": [
    "# Evaluate the model on the test set using F1 score\n",
    "test_f1_score = f1_score(y_val['label'], y_pred, average ='macro')\n",
    "print(\"F1 Score on Test Set:\", test_f1_score)"
   ]
  },
  {
   "cell_type": "markdown",
   "id": "df0d5cdf",
   "metadata": {},
   "source": [
    "###### Now using Voting classifier to combine all these classifiers and checking F1 score (excluding SVC as it is performing very poor in this case)"
   ]
  },
  {
   "cell_type": "code",
   "execution_count": 147,
   "id": "181873f0",
   "metadata": {},
   "outputs": [],
   "source": [
    "VC = VotingClassifier(estimators=[(\"logistic\", best_lrc), (\"RandomForest\", best_rf), (\"MultinomialNB\", best_mnb)], voting=\"soft\")"
   ]
  },
  {
   "cell_type": "code",
   "execution_count": 153,
   "id": "8f1494ce",
   "metadata": {},
   "outputs": [
    {
     "data": {
      "text/html": [
       "<style>#sk-container-id-18 {color: black;background-color: white;}#sk-container-id-18 pre{padding: 0;}#sk-container-id-18 div.sk-toggleable {background-color: white;}#sk-container-id-18 label.sk-toggleable__label {cursor: pointer;display: block;width: 100%;margin-bottom: 0;padding: 0.3em;box-sizing: border-box;text-align: center;}#sk-container-id-18 label.sk-toggleable__label-arrow:before {content: \"▸\";float: left;margin-right: 0.25em;color: #696969;}#sk-container-id-18 label.sk-toggleable__label-arrow:hover:before {color: black;}#sk-container-id-18 div.sk-estimator:hover label.sk-toggleable__label-arrow:before {color: black;}#sk-container-id-18 div.sk-toggleable__content {max-height: 0;max-width: 0;overflow: hidden;text-align: left;background-color: #f0f8ff;}#sk-container-id-18 div.sk-toggleable__content pre {margin: 0.2em;color: black;border-radius: 0.25em;background-color: #f0f8ff;}#sk-container-id-18 input.sk-toggleable__control:checked~div.sk-toggleable__content {max-height: 200px;max-width: 100%;overflow: auto;}#sk-container-id-18 input.sk-toggleable__control:checked~label.sk-toggleable__label-arrow:before {content: \"▾\";}#sk-container-id-18 div.sk-estimator input.sk-toggleable__control:checked~label.sk-toggleable__label {background-color: #d4ebff;}#sk-container-id-18 div.sk-label input.sk-toggleable__control:checked~label.sk-toggleable__label {background-color: #d4ebff;}#sk-container-id-18 input.sk-hidden--visually {border: 0;clip: rect(1px 1px 1px 1px);clip: rect(1px, 1px, 1px, 1px);height: 1px;margin: -1px;overflow: hidden;padding: 0;position: absolute;width: 1px;}#sk-container-id-18 div.sk-estimator {font-family: monospace;background-color: #f0f8ff;border: 1px dotted black;border-radius: 0.25em;box-sizing: border-box;margin-bottom: 0.5em;}#sk-container-id-18 div.sk-estimator:hover {background-color: #d4ebff;}#sk-container-id-18 div.sk-parallel-item::after {content: \"\";width: 100%;border-bottom: 1px solid gray;flex-grow: 1;}#sk-container-id-18 div.sk-label:hover label.sk-toggleable__label {background-color: #d4ebff;}#sk-container-id-18 div.sk-serial::before {content: \"\";position: absolute;border-left: 1px solid gray;box-sizing: border-box;top: 0;bottom: 0;left: 50%;z-index: 0;}#sk-container-id-18 div.sk-serial {display: flex;flex-direction: column;align-items: center;background-color: white;padding-right: 0.2em;padding-left: 0.2em;position: relative;}#sk-container-id-18 div.sk-item {position: relative;z-index: 1;}#sk-container-id-18 div.sk-parallel {display: flex;align-items: stretch;justify-content: center;background-color: white;position: relative;}#sk-container-id-18 div.sk-item::before, #sk-container-id-18 div.sk-parallel-item::before {content: \"\";position: absolute;border-left: 1px solid gray;box-sizing: border-box;top: 0;bottom: 0;left: 50%;z-index: -1;}#sk-container-id-18 div.sk-parallel-item {display: flex;flex-direction: column;z-index: 1;position: relative;background-color: white;}#sk-container-id-18 div.sk-parallel-item:first-child::after {align-self: flex-end;width: 50%;}#sk-container-id-18 div.sk-parallel-item:last-child::after {align-self: flex-start;width: 50%;}#sk-container-id-18 div.sk-parallel-item:only-child::after {width: 0;}#sk-container-id-18 div.sk-dashed-wrapped {border: 1px dashed gray;margin: 0 0.4em 0.5em 0.4em;box-sizing: border-box;padding-bottom: 0.4em;background-color: white;}#sk-container-id-18 div.sk-label label {font-family: monospace;font-weight: bold;display: inline-block;line-height: 1.2em;}#sk-container-id-18 div.sk-label-container {text-align: center;}#sk-container-id-18 div.sk-container {/* jupyter's `normalize.less` sets `[hidden] { display: none; }` but bootstrap.min.css set `[hidden] { display: none !important; }` so we also need the `!important` here to be able to override the default hidden behavior on the sphinx rendered scikit-learn.org. See: https://github.com/scikit-learn/scikit-learn/issues/21755 */display: inline-block !important;position: relative;}#sk-container-id-18 div.sk-text-repr-fallback {display: none;}</style><div id=\"sk-container-id-18\" class=\"sk-top-container\"><div class=\"sk-text-repr-fallback\"><pre>VotingClassifier(estimators=[(&#x27;logistic&#x27;,\n",
       "                              LogisticRegression(max_iter=2000,\n",
       "                                                 multi_class=&#x27;multinomial&#x27;,\n",
       "                                                 random_state=123,\n",
       "                                                 solver=&#x27;saga&#x27;)),\n",
       "                             (&#x27;RandomForest&#x27;,\n",
       "                              RandomForestClassifier(class_weight=&#x27;balanced_subsample&#x27;,\n",
       "                                                     max_depth=20,\n",
       "                                                     min_samples_split=10,\n",
       "                                                     n_estimators=50,\n",
       "                                                     random_state=123)),\n",
       "                             (&#x27;MultinomialNB&#x27;, MultinomialNB(alpha=0.1))],\n",
       "                 voting=&#x27;soft&#x27;)</pre><b>In a Jupyter environment, please rerun this cell to show the HTML representation or trust the notebook. <br />On GitHub, the HTML representation is unable to render, please try loading this page with nbviewer.org.</b></div><div class=\"sk-container\" hidden><div class=\"sk-item sk-dashed-wrapped\"><div class=\"sk-label-container\"><div class=\"sk-label sk-toggleable\"><input class=\"sk-toggleable__control sk-hidden--visually\" id=\"sk-estimator-id-43\" type=\"checkbox\" ><label for=\"sk-estimator-id-43\" class=\"sk-toggleable__label sk-toggleable__label-arrow\">VotingClassifier</label><div class=\"sk-toggleable__content\"><pre>VotingClassifier(estimators=[(&#x27;logistic&#x27;,\n",
       "                              LogisticRegression(max_iter=2000,\n",
       "                                                 multi_class=&#x27;multinomial&#x27;,\n",
       "                                                 random_state=123,\n",
       "                                                 solver=&#x27;saga&#x27;)),\n",
       "                             (&#x27;RandomForest&#x27;,\n",
       "                              RandomForestClassifier(class_weight=&#x27;balanced_subsample&#x27;,\n",
       "                                                     max_depth=20,\n",
       "                                                     min_samples_split=10,\n",
       "                                                     n_estimators=50,\n",
       "                                                     random_state=123)),\n",
       "                             (&#x27;MultinomialNB&#x27;, MultinomialNB(alpha=0.1))],\n",
       "                 voting=&#x27;soft&#x27;)</pre></div></div></div><div class=\"sk-parallel\"><div class=\"sk-parallel-item\"><div class=\"sk-item\"><div class=\"sk-label-container\"><div class=\"sk-label sk-toggleable\"><label>logistic</label></div></div><div class=\"sk-serial\"><div class=\"sk-item\"><div class=\"sk-estimator sk-toggleable\"><input class=\"sk-toggleable__control sk-hidden--visually\" id=\"sk-estimator-id-44\" type=\"checkbox\" ><label for=\"sk-estimator-id-44\" class=\"sk-toggleable__label sk-toggleable__label-arrow\">LogisticRegression</label><div class=\"sk-toggleable__content\"><pre>LogisticRegression(max_iter=2000, multi_class=&#x27;multinomial&#x27;, random_state=123,\n",
       "                   solver=&#x27;saga&#x27;)</pre></div></div></div></div></div></div><div class=\"sk-parallel-item\"><div class=\"sk-item\"><div class=\"sk-label-container\"><div class=\"sk-label sk-toggleable\"><label>RandomForest</label></div></div><div class=\"sk-serial\"><div class=\"sk-item\"><div class=\"sk-estimator sk-toggleable\"><input class=\"sk-toggleable__control sk-hidden--visually\" id=\"sk-estimator-id-45\" type=\"checkbox\" ><label for=\"sk-estimator-id-45\" class=\"sk-toggleable__label sk-toggleable__label-arrow\">RandomForestClassifier</label><div class=\"sk-toggleable__content\"><pre>RandomForestClassifier(class_weight=&#x27;balanced_subsample&#x27;, max_depth=20,\n",
       "                       min_samples_split=10, n_estimators=50, random_state=123)</pre></div></div></div></div></div></div><div class=\"sk-parallel-item\"><div class=\"sk-item\"><div class=\"sk-label-container\"><div class=\"sk-label sk-toggleable\"><label>MultinomialNB</label></div></div><div class=\"sk-serial\"><div class=\"sk-item\"><div class=\"sk-estimator sk-toggleable\"><input class=\"sk-toggleable__control sk-hidden--visually\" id=\"sk-estimator-id-46\" type=\"checkbox\" ><label for=\"sk-estimator-id-46\" class=\"sk-toggleable__label sk-toggleable__label-arrow\">MultinomialNB</label><div class=\"sk-toggleable__content\"><pre>MultinomialNB(alpha=0.1)</pre></div></div></div></div></div></div></div></div></div></div>"
      ],
      "text/plain": [
       "VotingClassifier(estimators=[('logistic',\n",
       "                              LogisticRegression(max_iter=2000,\n",
       "                                                 multi_class='multinomial',\n",
       "                                                 random_state=123,\n",
       "                                                 solver='saga')),\n",
       "                             ('RandomForest',\n",
       "                              RandomForestClassifier(class_weight='balanced_subsample',\n",
       "                                                     max_depth=20,\n",
       "                                                     min_samples_split=10,\n",
       "                                                     n_estimators=50,\n",
       "                                                     random_state=123)),\n",
       "                             ('MultinomialNB', MultinomialNB(alpha=0.1))],\n",
       "                 voting='soft')"
      ]
     },
     "execution_count": 153,
     "metadata": {},
     "output_type": "execute_result"
    }
   ],
   "source": [
    "VC.fit(X_train, y_train[\"label\"])"
   ]
  },
  {
   "cell_type": "code",
   "execution_count": 154,
   "id": "3edf6d6d",
   "metadata": {},
   "outputs": [],
   "source": [
    "y_pred_vc = VC.predict(X_val)"
   ]
  },
  {
   "cell_type": "code",
   "execution_count": 155,
   "id": "cc377a15",
   "metadata": {},
   "outputs": [
    {
     "data": {
      "text/plain": [
       "0.596467235029081"
      ]
     },
     "execution_count": 155,
     "metadata": {},
     "output_type": "execute_result"
    }
   ],
   "source": [
    "f1_score(y_pred_vc, y_val['label'], average=\"macro\")"
   ]
  },
  {
   "cell_type": "markdown",
   "id": "6c743957",
   "metadata": {},
   "source": [
    "###### Let's add one more classifier called OnevsOneClassifier"
   ]
  },
  {
   "cell_type": "code",
   "execution_count": 156,
   "id": "2f3975ea",
   "metadata": {},
   "outputs": [],
   "source": [
    "ovoLogC = OneVsOneClassifier(best_lrc)"
   ]
  },
  {
   "cell_type": "code",
   "execution_count": 157,
   "id": "8ba151c3",
   "metadata": {},
   "outputs": [
    {
     "data": {
      "text/html": [
       "<style>#sk-container-id-19 {color: black;background-color: white;}#sk-container-id-19 pre{padding: 0;}#sk-container-id-19 div.sk-toggleable {background-color: white;}#sk-container-id-19 label.sk-toggleable__label {cursor: pointer;display: block;width: 100%;margin-bottom: 0;padding: 0.3em;box-sizing: border-box;text-align: center;}#sk-container-id-19 label.sk-toggleable__label-arrow:before {content: \"▸\";float: left;margin-right: 0.25em;color: #696969;}#sk-container-id-19 label.sk-toggleable__label-arrow:hover:before {color: black;}#sk-container-id-19 div.sk-estimator:hover label.sk-toggleable__label-arrow:before {color: black;}#sk-container-id-19 div.sk-toggleable__content {max-height: 0;max-width: 0;overflow: hidden;text-align: left;background-color: #f0f8ff;}#sk-container-id-19 div.sk-toggleable__content pre {margin: 0.2em;color: black;border-radius: 0.25em;background-color: #f0f8ff;}#sk-container-id-19 input.sk-toggleable__control:checked~div.sk-toggleable__content {max-height: 200px;max-width: 100%;overflow: auto;}#sk-container-id-19 input.sk-toggleable__control:checked~label.sk-toggleable__label-arrow:before {content: \"▾\";}#sk-container-id-19 div.sk-estimator input.sk-toggleable__control:checked~label.sk-toggleable__label {background-color: #d4ebff;}#sk-container-id-19 div.sk-label input.sk-toggleable__control:checked~label.sk-toggleable__label {background-color: #d4ebff;}#sk-container-id-19 input.sk-hidden--visually {border: 0;clip: rect(1px 1px 1px 1px);clip: rect(1px, 1px, 1px, 1px);height: 1px;margin: -1px;overflow: hidden;padding: 0;position: absolute;width: 1px;}#sk-container-id-19 div.sk-estimator {font-family: monospace;background-color: #f0f8ff;border: 1px dotted black;border-radius: 0.25em;box-sizing: border-box;margin-bottom: 0.5em;}#sk-container-id-19 div.sk-estimator:hover {background-color: #d4ebff;}#sk-container-id-19 div.sk-parallel-item::after {content: \"\";width: 100%;border-bottom: 1px solid gray;flex-grow: 1;}#sk-container-id-19 div.sk-label:hover label.sk-toggleable__label {background-color: #d4ebff;}#sk-container-id-19 div.sk-serial::before {content: \"\";position: absolute;border-left: 1px solid gray;box-sizing: border-box;top: 0;bottom: 0;left: 50%;z-index: 0;}#sk-container-id-19 div.sk-serial {display: flex;flex-direction: column;align-items: center;background-color: white;padding-right: 0.2em;padding-left: 0.2em;position: relative;}#sk-container-id-19 div.sk-item {position: relative;z-index: 1;}#sk-container-id-19 div.sk-parallel {display: flex;align-items: stretch;justify-content: center;background-color: white;position: relative;}#sk-container-id-19 div.sk-item::before, #sk-container-id-19 div.sk-parallel-item::before {content: \"\";position: absolute;border-left: 1px solid gray;box-sizing: border-box;top: 0;bottom: 0;left: 50%;z-index: -1;}#sk-container-id-19 div.sk-parallel-item {display: flex;flex-direction: column;z-index: 1;position: relative;background-color: white;}#sk-container-id-19 div.sk-parallel-item:first-child::after {align-self: flex-end;width: 50%;}#sk-container-id-19 div.sk-parallel-item:last-child::after {align-self: flex-start;width: 50%;}#sk-container-id-19 div.sk-parallel-item:only-child::after {width: 0;}#sk-container-id-19 div.sk-dashed-wrapped {border: 1px dashed gray;margin: 0 0.4em 0.5em 0.4em;box-sizing: border-box;padding-bottom: 0.4em;background-color: white;}#sk-container-id-19 div.sk-label label {font-family: monospace;font-weight: bold;display: inline-block;line-height: 1.2em;}#sk-container-id-19 div.sk-label-container {text-align: center;}#sk-container-id-19 div.sk-container {/* jupyter's `normalize.less` sets `[hidden] { display: none; }` but bootstrap.min.css set `[hidden] { display: none !important; }` so we also need the `!important` here to be able to override the default hidden behavior on the sphinx rendered scikit-learn.org. See: https://github.com/scikit-learn/scikit-learn/issues/21755 */display: inline-block !important;position: relative;}#sk-container-id-19 div.sk-text-repr-fallback {display: none;}</style><div id=\"sk-container-id-19\" class=\"sk-top-container\"><div class=\"sk-text-repr-fallback\"><pre>OneVsOneClassifier(estimator=LogisticRegression(max_iter=2000,\n",
       "                                                multi_class=&#x27;multinomial&#x27;,\n",
       "                                                random_state=123,\n",
       "                                                solver=&#x27;saga&#x27;))</pre><b>In a Jupyter environment, please rerun this cell to show the HTML representation or trust the notebook. <br />On GitHub, the HTML representation is unable to render, please try loading this page with nbviewer.org.</b></div><div class=\"sk-container\" hidden><div class=\"sk-item sk-dashed-wrapped\"><div class=\"sk-label-container\"><div class=\"sk-label sk-toggleable\"><input class=\"sk-toggleable__control sk-hidden--visually\" id=\"sk-estimator-id-47\" type=\"checkbox\" ><label for=\"sk-estimator-id-47\" class=\"sk-toggleable__label sk-toggleable__label-arrow\">OneVsOneClassifier</label><div class=\"sk-toggleable__content\"><pre>OneVsOneClassifier(estimator=LogisticRegression(max_iter=2000,\n",
       "                                                multi_class=&#x27;multinomial&#x27;,\n",
       "                                                random_state=123,\n",
       "                                                solver=&#x27;saga&#x27;))</pre></div></div></div><div class=\"sk-parallel\"><div class=\"sk-parallel-item\"><div class=\"sk-item\"><div class=\"sk-label-container\"><div class=\"sk-label sk-toggleable\"><input class=\"sk-toggleable__control sk-hidden--visually\" id=\"sk-estimator-id-48\" type=\"checkbox\" ><label for=\"sk-estimator-id-48\" class=\"sk-toggleable__label sk-toggleable__label-arrow\">estimator: LogisticRegression</label><div class=\"sk-toggleable__content\"><pre>LogisticRegression(max_iter=2000, multi_class=&#x27;multinomial&#x27;, random_state=123,\n",
       "                   solver=&#x27;saga&#x27;)</pre></div></div></div><div class=\"sk-serial\"><div class=\"sk-item\"><div class=\"sk-estimator sk-toggleable\"><input class=\"sk-toggleable__control sk-hidden--visually\" id=\"sk-estimator-id-49\" type=\"checkbox\" ><label for=\"sk-estimator-id-49\" class=\"sk-toggleable__label sk-toggleable__label-arrow\">LogisticRegression</label><div class=\"sk-toggleable__content\"><pre>LogisticRegression(max_iter=2000, multi_class=&#x27;multinomial&#x27;, random_state=123,\n",
       "                   solver=&#x27;saga&#x27;)</pre></div></div></div></div></div></div></div></div></div></div>"
      ],
      "text/plain": [
       "OneVsOneClassifier(estimator=LogisticRegression(max_iter=2000,\n",
       "                                                multi_class='multinomial',\n",
       "                                                random_state=123,\n",
       "                                                solver='saga'))"
      ]
     },
     "execution_count": 157,
     "metadata": {},
     "output_type": "execute_result"
    }
   ],
   "source": [
    "ovoLogC.fit(X_train, y_train[\"label\"])"
   ]
  },
  {
   "cell_type": "code",
   "execution_count": 158,
   "id": "e9912958",
   "metadata": {},
   "outputs": [],
   "source": [
    "y_pred_ovoLogC = ovoLogC.predict(X_val)"
   ]
  },
  {
   "cell_type": "code",
   "execution_count": 159,
   "id": "42510dd0",
   "metadata": {},
   "outputs": [
    {
     "data": {
      "text/plain": [
       "0.6065250829662663"
      ]
     },
     "execution_count": 159,
     "metadata": {},
     "output_type": "execute_result"
    }
   ],
   "source": [
    "f1_ovologc = f1_score(y_pred_ovoLogC, y_val[\"label\"], average=\"macro\")\n",
    "f1_ovologc"
   ]
  },
  {
   "cell_type": "markdown",
   "id": "62b518a2",
   "metadata": {},
   "source": [
    "Adding this to Voting Classifier to see if it improves the model"
   ]
  },
  {
   "cell_type": "code",
   "execution_count": 160,
   "id": "51083bdf",
   "metadata": {},
   "outputs": [],
   "source": [
    "VC = VotingClassifier(estimators=[(\"logistic\", best_lrc), (\"RandomForest\", best_rf),(\"MultinomialNB\", best_mnb), (\"One-vs-One Logistic\", ovoLogC)], voting=\"hard\")"
   ]
  },
  {
   "cell_type": "code",
   "execution_count": 161,
   "id": "96a533a5",
   "metadata": {},
   "outputs": [
    {
     "data": {
      "text/html": [
       "<style>#sk-container-id-20 {color: black;background-color: white;}#sk-container-id-20 pre{padding: 0;}#sk-container-id-20 div.sk-toggleable {background-color: white;}#sk-container-id-20 label.sk-toggleable__label {cursor: pointer;display: block;width: 100%;margin-bottom: 0;padding: 0.3em;box-sizing: border-box;text-align: center;}#sk-container-id-20 label.sk-toggleable__label-arrow:before {content: \"▸\";float: left;margin-right: 0.25em;color: #696969;}#sk-container-id-20 label.sk-toggleable__label-arrow:hover:before {color: black;}#sk-container-id-20 div.sk-estimator:hover label.sk-toggleable__label-arrow:before {color: black;}#sk-container-id-20 div.sk-toggleable__content {max-height: 0;max-width: 0;overflow: hidden;text-align: left;background-color: #f0f8ff;}#sk-container-id-20 div.sk-toggleable__content pre {margin: 0.2em;color: black;border-radius: 0.25em;background-color: #f0f8ff;}#sk-container-id-20 input.sk-toggleable__control:checked~div.sk-toggleable__content {max-height: 200px;max-width: 100%;overflow: auto;}#sk-container-id-20 input.sk-toggleable__control:checked~label.sk-toggleable__label-arrow:before {content: \"▾\";}#sk-container-id-20 div.sk-estimator input.sk-toggleable__control:checked~label.sk-toggleable__label {background-color: #d4ebff;}#sk-container-id-20 div.sk-label input.sk-toggleable__control:checked~label.sk-toggleable__label {background-color: #d4ebff;}#sk-container-id-20 input.sk-hidden--visually {border: 0;clip: rect(1px 1px 1px 1px);clip: rect(1px, 1px, 1px, 1px);height: 1px;margin: -1px;overflow: hidden;padding: 0;position: absolute;width: 1px;}#sk-container-id-20 div.sk-estimator {font-family: monospace;background-color: #f0f8ff;border: 1px dotted black;border-radius: 0.25em;box-sizing: border-box;margin-bottom: 0.5em;}#sk-container-id-20 div.sk-estimator:hover {background-color: #d4ebff;}#sk-container-id-20 div.sk-parallel-item::after {content: \"\";width: 100%;border-bottom: 1px solid gray;flex-grow: 1;}#sk-container-id-20 div.sk-label:hover label.sk-toggleable__label {background-color: #d4ebff;}#sk-container-id-20 div.sk-serial::before {content: \"\";position: absolute;border-left: 1px solid gray;box-sizing: border-box;top: 0;bottom: 0;left: 50%;z-index: 0;}#sk-container-id-20 div.sk-serial {display: flex;flex-direction: column;align-items: center;background-color: white;padding-right: 0.2em;padding-left: 0.2em;position: relative;}#sk-container-id-20 div.sk-item {position: relative;z-index: 1;}#sk-container-id-20 div.sk-parallel {display: flex;align-items: stretch;justify-content: center;background-color: white;position: relative;}#sk-container-id-20 div.sk-item::before, #sk-container-id-20 div.sk-parallel-item::before {content: \"\";position: absolute;border-left: 1px solid gray;box-sizing: border-box;top: 0;bottom: 0;left: 50%;z-index: -1;}#sk-container-id-20 div.sk-parallel-item {display: flex;flex-direction: column;z-index: 1;position: relative;background-color: white;}#sk-container-id-20 div.sk-parallel-item:first-child::after {align-self: flex-end;width: 50%;}#sk-container-id-20 div.sk-parallel-item:last-child::after {align-self: flex-start;width: 50%;}#sk-container-id-20 div.sk-parallel-item:only-child::after {width: 0;}#sk-container-id-20 div.sk-dashed-wrapped {border: 1px dashed gray;margin: 0 0.4em 0.5em 0.4em;box-sizing: border-box;padding-bottom: 0.4em;background-color: white;}#sk-container-id-20 div.sk-label label {font-family: monospace;font-weight: bold;display: inline-block;line-height: 1.2em;}#sk-container-id-20 div.sk-label-container {text-align: center;}#sk-container-id-20 div.sk-container {/* jupyter's `normalize.less` sets `[hidden] { display: none; }` but bootstrap.min.css set `[hidden] { display: none !important; }` so we also need the `!important` here to be able to override the default hidden behavior on the sphinx rendered scikit-learn.org. See: https://github.com/scikit-learn/scikit-learn/issues/21755 */display: inline-block !important;position: relative;}#sk-container-id-20 div.sk-text-repr-fallback {display: none;}</style><div id=\"sk-container-id-20\" class=\"sk-top-container\"><div class=\"sk-text-repr-fallback\"><pre>VotingClassifier(estimators=[(&#x27;logistic&#x27;,\n",
       "                              LogisticRegression(max_iter=2000,\n",
       "                                                 multi_class=&#x27;multinomial&#x27;,\n",
       "                                                 random_state=123,\n",
       "                                                 solver=&#x27;saga&#x27;)),\n",
       "                             (&#x27;RandomForest&#x27;,\n",
       "                              RandomForestClassifier(class_weight=&#x27;balanced_subsample&#x27;,\n",
       "                                                     max_depth=20,\n",
       "                                                     min_samples_split=10,\n",
       "                                                     n_estimators=50,\n",
       "                                                     random_state=123)),\n",
       "                             (&#x27;MultinomialNB&#x27;, MultinomialNB(alpha=0.1)),\n",
       "                             (&#x27;One-vs-One Logistic&#x27;,\n",
       "                              OneVsOneClassifier(estimator=LogisticRegression(max_iter=2000,\n",
       "                                                                              multi_class=&#x27;multinomial&#x27;,\n",
       "                                                                              random_state=123,\n",
       "                                                                              solver=&#x27;saga&#x27;)))])</pre><b>In a Jupyter environment, please rerun this cell to show the HTML representation or trust the notebook. <br />On GitHub, the HTML representation is unable to render, please try loading this page with nbviewer.org.</b></div><div class=\"sk-container\" hidden><div class=\"sk-item sk-dashed-wrapped\"><div class=\"sk-label-container\"><div class=\"sk-label sk-toggleable\"><input class=\"sk-toggleable__control sk-hidden--visually\" id=\"sk-estimator-id-50\" type=\"checkbox\" ><label for=\"sk-estimator-id-50\" class=\"sk-toggleable__label sk-toggleable__label-arrow\">VotingClassifier</label><div class=\"sk-toggleable__content\"><pre>VotingClassifier(estimators=[(&#x27;logistic&#x27;,\n",
       "                              LogisticRegression(max_iter=2000,\n",
       "                                                 multi_class=&#x27;multinomial&#x27;,\n",
       "                                                 random_state=123,\n",
       "                                                 solver=&#x27;saga&#x27;)),\n",
       "                             (&#x27;RandomForest&#x27;,\n",
       "                              RandomForestClassifier(class_weight=&#x27;balanced_subsample&#x27;,\n",
       "                                                     max_depth=20,\n",
       "                                                     min_samples_split=10,\n",
       "                                                     n_estimators=50,\n",
       "                                                     random_state=123)),\n",
       "                             (&#x27;MultinomialNB&#x27;, MultinomialNB(alpha=0.1)),\n",
       "                             (&#x27;One-vs-One Logistic&#x27;,\n",
       "                              OneVsOneClassifier(estimator=LogisticRegression(max_iter=2000,\n",
       "                                                                              multi_class=&#x27;multinomial&#x27;,\n",
       "                                                                              random_state=123,\n",
       "                                                                              solver=&#x27;saga&#x27;)))])</pre></div></div></div><div class=\"sk-parallel\"><div class=\"sk-parallel-item\"><div class=\"sk-item\"><div class=\"sk-label-container\"><div class=\"sk-label sk-toggleable\"><label>logistic</label></div></div><div class=\"sk-serial\"><div class=\"sk-item\"><div class=\"sk-estimator sk-toggleable\"><input class=\"sk-toggleable__control sk-hidden--visually\" id=\"sk-estimator-id-51\" type=\"checkbox\" ><label for=\"sk-estimator-id-51\" class=\"sk-toggleable__label sk-toggleable__label-arrow\">LogisticRegression</label><div class=\"sk-toggleable__content\"><pre>LogisticRegression(max_iter=2000, multi_class=&#x27;multinomial&#x27;, random_state=123,\n",
       "                   solver=&#x27;saga&#x27;)</pre></div></div></div></div></div></div><div class=\"sk-parallel-item\"><div class=\"sk-item\"><div class=\"sk-label-container\"><div class=\"sk-label sk-toggleable\"><label>RandomForest</label></div></div><div class=\"sk-serial\"><div class=\"sk-item\"><div class=\"sk-estimator sk-toggleable\"><input class=\"sk-toggleable__control sk-hidden--visually\" id=\"sk-estimator-id-52\" type=\"checkbox\" ><label for=\"sk-estimator-id-52\" class=\"sk-toggleable__label sk-toggleable__label-arrow\">RandomForestClassifier</label><div class=\"sk-toggleable__content\"><pre>RandomForestClassifier(class_weight=&#x27;balanced_subsample&#x27;, max_depth=20,\n",
       "                       min_samples_split=10, n_estimators=50, random_state=123)</pre></div></div></div></div></div></div><div class=\"sk-parallel-item\"><div class=\"sk-item\"><div class=\"sk-label-container\"><div class=\"sk-label sk-toggleable\"><label>MultinomialNB</label></div></div><div class=\"sk-serial\"><div class=\"sk-item\"><div class=\"sk-estimator sk-toggleable\"><input class=\"sk-toggleable__control sk-hidden--visually\" id=\"sk-estimator-id-53\" type=\"checkbox\" ><label for=\"sk-estimator-id-53\" class=\"sk-toggleable__label sk-toggleable__label-arrow\">MultinomialNB</label><div class=\"sk-toggleable__content\"><pre>MultinomialNB(alpha=0.1)</pre></div></div></div></div></div></div><div class=\"sk-parallel-item\"><div class=\"sk-item\"><div class=\"sk-label-container\"><div class=\"sk-label sk-toggleable\"><label>One-vs-One Logistic</label></div></div><div class=\"sk-serial\"><div class=\"sk-item sk-dashed-wrapped\"><div class=\"sk-parallel\"><div class=\"sk-parallel-item\"><div class=\"sk-item\"><div class=\"sk-label-container\"><div class=\"sk-label sk-toggleable\"><input class=\"sk-toggleable__control sk-hidden--visually\" id=\"sk-estimator-id-54\" type=\"checkbox\" ><label for=\"sk-estimator-id-54\" class=\"sk-toggleable__label sk-toggleable__label-arrow\">estimator: LogisticRegression</label><div class=\"sk-toggleable__content\"><pre>LogisticRegression(max_iter=2000, multi_class=&#x27;multinomial&#x27;, random_state=123,\n",
       "                   solver=&#x27;saga&#x27;)</pre></div></div></div><div class=\"sk-serial\"><div class=\"sk-item\"><div class=\"sk-estimator sk-toggleable\"><input class=\"sk-toggleable__control sk-hidden--visually\" id=\"sk-estimator-id-55\" type=\"checkbox\" ><label for=\"sk-estimator-id-55\" class=\"sk-toggleable__label sk-toggleable__label-arrow\">LogisticRegression</label><div class=\"sk-toggleable__content\"><pre>LogisticRegression(max_iter=2000, multi_class=&#x27;multinomial&#x27;, random_state=123,\n",
       "                   solver=&#x27;saga&#x27;)</pre></div></div></div></div></div></div></div></div></div></div></div></div></div></div></div>"
      ],
      "text/plain": [
       "VotingClassifier(estimators=[('logistic',\n",
       "                              LogisticRegression(max_iter=2000,\n",
       "                                                 multi_class='multinomial',\n",
       "                                                 random_state=123,\n",
       "                                                 solver='saga')),\n",
       "                             ('RandomForest',\n",
       "                              RandomForestClassifier(class_weight='balanced_subsample',\n",
       "                                                     max_depth=20,\n",
       "                                                     min_samples_split=10,\n",
       "                                                     n_estimators=50,\n",
       "                                                     random_state=123)),\n",
       "                             ('MultinomialNB', MultinomialNB(alpha=0.1)),\n",
       "                             ('One-vs-One Logistic',\n",
       "                              OneVsOneClassifier(estimator=LogisticRegression(max_iter=2000,\n",
       "                                                                              multi_class='multinomial',\n",
       "                                                                              random_state=123,\n",
       "                                                                              solver='saga')))])"
      ]
     },
     "execution_count": 161,
     "metadata": {},
     "output_type": "execute_result"
    }
   ],
   "source": [
    "VC.fit(X_train, y_train[\"label\"])"
   ]
  },
  {
   "cell_type": "code",
   "execution_count": 162,
   "id": "6c4eaf27",
   "metadata": {},
   "outputs": [],
   "source": [
    "y_pred_vc = VC.predict(X_val)"
   ]
  },
  {
   "cell_type": "code",
   "execution_count": 163,
   "id": "bcb10890",
   "metadata": {},
   "outputs": [
    {
     "data": {
      "text/plain": [
       "0.5817487630829752"
      ]
     },
     "execution_count": 163,
     "metadata": {},
     "output_type": "execute_result"
    }
   ],
   "source": [
    "f1_score(y_pred_vc, y_val['label'], average=\"macro\")"
   ]
  },
  {
   "cell_type": "markdown",
   "id": "1c530c7e",
   "metadata": {},
   "source": [
    "###### Let's add one more classifier called OnevsRestClassifier"
   ]
  },
  {
   "cell_type": "code",
   "execution_count": 164,
   "id": "bea593ea",
   "metadata": {},
   "outputs": [],
   "source": [
    "ovrLogC = OneVsRestClassifier(best_lrc)"
   ]
  },
  {
   "cell_type": "code",
   "execution_count": 166,
   "id": "6dc6a264",
   "metadata": {},
   "outputs": [
    {
     "data": {
      "text/html": [
       "<style>#sk-container-id-22 {color: black;background-color: white;}#sk-container-id-22 pre{padding: 0;}#sk-container-id-22 div.sk-toggleable {background-color: white;}#sk-container-id-22 label.sk-toggleable__label {cursor: pointer;display: block;width: 100%;margin-bottom: 0;padding: 0.3em;box-sizing: border-box;text-align: center;}#sk-container-id-22 label.sk-toggleable__label-arrow:before {content: \"▸\";float: left;margin-right: 0.25em;color: #696969;}#sk-container-id-22 label.sk-toggleable__label-arrow:hover:before {color: black;}#sk-container-id-22 div.sk-estimator:hover label.sk-toggleable__label-arrow:before {color: black;}#sk-container-id-22 div.sk-toggleable__content {max-height: 0;max-width: 0;overflow: hidden;text-align: left;background-color: #f0f8ff;}#sk-container-id-22 div.sk-toggleable__content pre {margin: 0.2em;color: black;border-radius: 0.25em;background-color: #f0f8ff;}#sk-container-id-22 input.sk-toggleable__control:checked~div.sk-toggleable__content {max-height: 200px;max-width: 100%;overflow: auto;}#sk-container-id-22 input.sk-toggleable__control:checked~label.sk-toggleable__label-arrow:before {content: \"▾\";}#sk-container-id-22 div.sk-estimator input.sk-toggleable__control:checked~label.sk-toggleable__label {background-color: #d4ebff;}#sk-container-id-22 div.sk-label input.sk-toggleable__control:checked~label.sk-toggleable__label {background-color: #d4ebff;}#sk-container-id-22 input.sk-hidden--visually {border: 0;clip: rect(1px 1px 1px 1px);clip: rect(1px, 1px, 1px, 1px);height: 1px;margin: -1px;overflow: hidden;padding: 0;position: absolute;width: 1px;}#sk-container-id-22 div.sk-estimator {font-family: monospace;background-color: #f0f8ff;border: 1px dotted black;border-radius: 0.25em;box-sizing: border-box;margin-bottom: 0.5em;}#sk-container-id-22 div.sk-estimator:hover {background-color: #d4ebff;}#sk-container-id-22 div.sk-parallel-item::after {content: \"\";width: 100%;border-bottom: 1px solid gray;flex-grow: 1;}#sk-container-id-22 div.sk-label:hover label.sk-toggleable__label {background-color: #d4ebff;}#sk-container-id-22 div.sk-serial::before {content: \"\";position: absolute;border-left: 1px solid gray;box-sizing: border-box;top: 0;bottom: 0;left: 50%;z-index: 0;}#sk-container-id-22 div.sk-serial {display: flex;flex-direction: column;align-items: center;background-color: white;padding-right: 0.2em;padding-left: 0.2em;position: relative;}#sk-container-id-22 div.sk-item {position: relative;z-index: 1;}#sk-container-id-22 div.sk-parallel {display: flex;align-items: stretch;justify-content: center;background-color: white;position: relative;}#sk-container-id-22 div.sk-item::before, #sk-container-id-22 div.sk-parallel-item::before {content: \"\";position: absolute;border-left: 1px solid gray;box-sizing: border-box;top: 0;bottom: 0;left: 50%;z-index: -1;}#sk-container-id-22 div.sk-parallel-item {display: flex;flex-direction: column;z-index: 1;position: relative;background-color: white;}#sk-container-id-22 div.sk-parallel-item:first-child::after {align-self: flex-end;width: 50%;}#sk-container-id-22 div.sk-parallel-item:last-child::after {align-self: flex-start;width: 50%;}#sk-container-id-22 div.sk-parallel-item:only-child::after {width: 0;}#sk-container-id-22 div.sk-dashed-wrapped {border: 1px dashed gray;margin: 0 0.4em 0.5em 0.4em;box-sizing: border-box;padding-bottom: 0.4em;background-color: white;}#sk-container-id-22 div.sk-label label {font-family: monospace;font-weight: bold;display: inline-block;line-height: 1.2em;}#sk-container-id-22 div.sk-label-container {text-align: center;}#sk-container-id-22 div.sk-container {/* jupyter's `normalize.less` sets `[hidden] { display: none; }` but bootstrap.min.css set `[hidden] { display: none !important; }` so we also need the `!important` here to be able to override the default hidden behavior on the sphinx rendered scikit-learn.org. See: https://github.com/scikit-learn/scikit-learn/issues/21755 */display: inline-block !important;position: relative;}#sk-container-id-22 div.sk-text-repr-fallback {display: none;}</style><div id=\"sk-container-id-22\" class=\"sk-top-container\"><div class=\"sk-text-repr-fallback\"><pre>OneVsRestClassifier(estimator=LogisticRegression(max_iter=2000,\n",
       "                                                 multi_class=&#x27;multinomial&#x27;,\n",
       "                                                 random_state=123,\n",
       "                                                 solver=&#x27;saga&#x27;))</pre><b>In a Jupyter environment, please rerun this cell to show the HTML representation or trust the notebook. <br />On GitHub, the HTML representation is unable to render, please try loading this page with nbviewer.org.</b></div><div class=\"sk-container\" hidden><div class=\"sk-item sk-dashed-wrapped\"><div class=\"sk-label-container\"><div class=\"sk-label sk-toggleable\"><input class=\"sk-toggleable__control sk-hidden--visually\" id=\"sk-estimator-id-59\" type=\"checkbox\" ><label for=\"sk-estimator-id-59\" class=\"sk-toggleable__label sk-toggleable__label-arrow\">OneVsRestClassifier</label><div class=\"sk-toggleable__content\"><pre>OneVsRestClassifier(estimator=LogisticRegression(max_iter=2000,\n",
       "                                                 multi_class=&#x27;multinomial&#x27;,\n",
       "                                                 random_state=123,\n",
       "                                                 solver=&#x27;saga&#x27;))</pre></div></div></div><div class=\"sk-parallel\"><div class=\"sk-parallel-item\"><div class=\"sk-item\"><div class=\"sk-label-container\"><div class=\"sk-label sk-toggleable\"><input class=\"sk-toggleable__control sk-hidden--visually\" id=\"sk-estimator-id-60\" type=\"checkbox\" ><label for=\"sk-estimator-id-60\" class=\"sk-toggleable__label sk-toggleable__label-arrow\">estimator: LogisticRegression</label><div class=\"sk-toggleable__content\"><pre>LogisticRegression(max_iter=2000, multi_class=&#x27;multinomial&#x27;, random_state=123,\n",
       "                   solver=&#x27;saga&#x27;)</pre></div></div></div><div class=\"sk-serial\"><div class=\"sk-item\"><div class=\"sk-estimator sk-toggleable\"><input class=\"sk-toggleable__control sk-hidden--visually\" id=\"sk-estimator-id-61\" type=\"checkbox\" ><label for=\"sk-estimator-id-61\" class=\"sk-toggleable__label sk-toggleable__label-arrow\">LogisticRegression</label><div class=\"sk-toggleable__content\"><pre>LogisticRegression(max_iter=2000, multi_class=&#x27;multinomial&#x27;, random_state=123,\n",
       "                   solver=&#x27;saga&#x27;)</pre></div></div></div></div></div></div></div></div></div></div>"
      ],
      "text/plain": [
       "OneVsRestClassifier(estimator=LogisticRegression(max_iter=2000,\n",
       "                                                 multi_class='multinomial',\n",
       "                                                 random_state=123,\n",
       "                                                 solver='saga'))"
      ]
     },
     "execution_count": 166,
     "metadata": {},
     "output_type": "execute_result"
    }
   ],
   "source": [
    "ovrLogC.fit(X_train, y_train[\"label\"])"
   ]
  },
  {
   "cell_type": "code",
   "execution_count": 167,
   "id": "debef026",
   "metadata": {},
   "outputs": [],
   "source": [
    "y_pred_ovrlogc = ovrLogC.predict(X_val)"
   ]
  },
  {
   "cell_type": "code",
   "execution_count": 168,
   "id": "8facb3c1",
   "metadata": {},
   "outputs": [],
   "source": [
    "f1_ovrlogc = f1_score(y_pred_ovrlogc, y_val['label'], average=\"macro\")"
   ]
  },
  {
   "cell_type": "code",
   "execution_count": 169,
   "id": "3a3d700a",
   "metadata": {},
   "outputs": [
    {
     "data": {
      "text/plain": [
       "0.5949599117626369"
      ]
     },
     "execution_count": 169,
     "metadata": {},
     "output_type": "execute_result"
    }
   ],
   "source": [
    "f1_ovrlogc"
   ]
  },
  {
   "cell_type": "code",
   "execution_count": 170,
   "id": "d5e7e844",
   "metadata": {},
   "outputs": [],
   "source": [
    "VC = VotingClassifier(estimators=[(\"logistic\", best_lrc), (\"RandomForest\", best_rf),(\"MultinomialNB\", best_mnb), (\"One-vs-One Logistic\", ovoLogC), (\"One-vs-Rest Logistic\", ovrLogC)], voting=\"hard\")"
   ]
  },
  {
   "cell_type": "code",
   "execution_count": 172,
   "id": "39cd3dc1",
   "metadata": {},
   "outputs": [
    {
     "data": {
      "text/html": [
       "<style>#sk-container-id-23 {color: black;background-color: white;}#sk-container-id-23 pre{padding: 0;}#sk-container-id-23 div.sk-toggleable {background-color: white;}#sk-container-id-23 label.sk-toggleable__label {cursor: pointer;display: block;width: 100%;margin-bottom: 0;padding: 0.3em;box-sizing: border-box;text-align: center;}#sk-container-id-23 label.sk-toggleable__label-arrow:before {content: \"▸\";float: left;margin-right: 0.25em;color: #696969;}#sk-container-id-23 label.sk-toggleable__label-arrow:hover:before {color: black;}#sk-container-id-23 div.sk-estimator:hover label.sk-toggleable__label-arrow:before {color: black;}#sk-container-id-23 div.sk-toggleable__content {max-height: 0;max-width: 0;overflow: hidden;text-align: left;background-color: #f0f8ff;}#sk-container-id-23 div.sk-toggleable__content pre {margin: 0.2em;color: black;border-radius: 0.25em;background-color: #f0f8ff;}#sk-container-id-23 input.sk-toggleable__control:checked~div.sk-toggleable__content {max-height: 200px;max-width: 100%;overflow: auto;}#sk-container-id-23 input.sk-toggleable__control:checked~label.sk-toggleable__label-arrow:before {content: \"▾\";}#sk-container-id-23 div.sk-estimator input.sk-toggleable__control:checked~label.sk-toggleable__label {background-color: #d4ebff;}#sk-container-id-23 div.sk-label input.sk-toggleable__control:checked~label.sk-toggleable__label {background-color: #d4ebff;}#sk-container-id-23 input.sk-hidden--visually {border: 0;clip: rect(1px 1px 1px 1px);clip: rect(1px, 1px, 1px, 1px);height: 1px;margin: -1px;overflow: hidden;padding: 0;position: absolute;width: 1px;}#sk-container-id-23 div.sk-estimator {font-family: monospace;background-color: #f0f8ff;border: 1px dotted black;border-radius: 0.25em;box-sizing: border-box;margin-bottom: 0.5em;}#sk-container-id-23 div.sk-estimator:hover {background-color: #d4ebff;}#sk-container-id-23 div.sk-parallel-item::after {content: \"\";width: 100%;border-bottom: 1px solid gray;flex-grow: 1;}#sk-container-id-23 div.sk-label:hover label.sk-toggleable__label {background-color: #d4ebff;}#sk-container-id-23 div.sk-serial::before {content: \"\";position: absolute;border-left: 1px solid gray;box-sizing: border-box;top: 0;bottom: 0;left: 50%;z-index: 0;}#sk-container-id-23 div.sk-serial {display: flex;flex-direction: column;align-items: center;background-color: white;padding-right: 0.2em;padding-left: 0.2em;position: relative;}#sk-container-id-23 div.sk-item {position: relative;z-index: 1;}#sk-container-id-23 div.sk-parallel {display: flex;align-items: stretch;justify-content: center;background-color: white;position: relative;}#sk-container-id-23 div.sk-item::before, #sk-container-id-23 div.sk-parallel-item::before {content: \"\";position: absolute;border-left: 1px solid gray;box-sizing: border-box;top: 0;bottom: 0;left: 50%;z-index: -1;}#sk-container-id-23 div.sk-parallel-item {display: flex;flex-direction: column;z-index: 1;position: relative;background-color: white;}#sk-container-id-23 div.sk-parallel-item:first-child::after {align-self: flex-end;width: 50%;}#sk-container-id-23 div.sk-parallel-item:last-child::after {align-self: flex-start;width: 50%;}#sk-container-id-23 div.sk-parallel-item:only-child::after {width: 0;}#sk-container-id-23 div.sk-dashed-wrapped {border: 1px dashed gray;margin: 0 0.4em 0.5em 0.4em;box-sizing: border-box;padding-bottom: 0.4em;background-color: white;}#sk-container-id-23 div.sk-label label {font-family: monospace;font-weight: bold;display: inline-block;line-height: 1.2em;}#sk-container-id-23 div.sk-label-container {text-align: center;}#sk-container-id-23 div.sk-container {/* jupyter's `normalize.less` sets `[hidden] { display: none; }` but bootstrap.min.css set `[hidden] { display: none !important; }` so we also need the `!important` here to be able to override the default hidden behavior on the sphinx rendered scikit-learn.org. See: https://github.com/scikit-learn/scikit-learn/issues/21755 */display: inline-block !important;position: relative;}#sk-container-id-23 div.sk-text-repr-fallback {display: none;}</style><div id=\"sk-container-id-23\" class=\"sk-top-container\"><div class=\"sk-text-repr-fallback\"><pre>VotingClassifier(estimators=[(&#x27;logistic&#x27;,\n",
       "                              LogisticRegression(max_iter=2000,\n",
       "                                                 multi_class=&#x27;multinomial&#x27;,\n",
       "                                                 random_state=123,\n",
       "                                                 solver=&#x27;saga&#x27;)),\n",
       "                             (&#x27;RandomForest&#x27;,\n",
       "                              RandomForestClassifier(class_weight=&#x27;balanced_subsample&#x27;,\n",
       "                                                     max_depth=20,\n",
       "                                                     min_samples_split=10,\n",
       "                                                     n_estimators=50,\n",
       "                                                     random_state=123)),\n",
       "                             (&#x27;MultinomialNB&#x27;, MultinomialNB(alpha=0.1)),\n",
       "                             (&#x27;One-vs-One Logistic&#x27;,\n",
       "                              OneVsOneClassifier(estimator=LogisticRegression(max_iter=2000,\n",
       "                                                                              multi_class=&#x27;multinomial&#x27;,\n",
       "                                                                              random_state=123,\n",
       "                                                                              solver=&#x27;saga&#x27;))),\n",
       "                             (&#x27;One-vs-Rest Logistic&#x27;,\n",
       "                              OneVsRestClassifier(estimator=LogisticRegression(max_iter=2000,\n",
       "                                                                               multi_class=&#x27;multinomial&#x27;,\n",
       "                                                                               random_state=123,\n",
       "                                                                               solver=&#x27;saga&#x27;)))])</pre><b>In a Jupyter environment, please rerun this cell to show the HTML representation or trust the notebook. <br />On GitHub, the HTML representation is unable to render, please try loading this page with nbviewer.org.</b></div><div class=\"sk-container\" hidden><div class=\"sk-item sk-dashed-wrapped\"><div class=\"sk-label-container\"><div class=\"sk-label sk-toggleable\"><input class=\"sk-toggleable__control sk-hidden--visually\" id=\"sk-estimator-id-62\" type=\"checkbox\" ><label for=\"sk-estimator-id-62\" class=\"sk-toggleable__label sk-toggleable__label-arrow\">VotingClassifier</label><div class=\"sk-toggleable__content\"><pre>VotingClassifier(estimators=[(&#x27;logistic&#x27;,\n",
       "                              LogisticRegression(max_iter=2000,\n",
       "                                                 multi_class=&#x27;multinomial&#x27;,\n",
       "                                                 random_state=123,\n",
       "                                                 solver=&#x27;saga&#x27;)),\n",
       "                             (&#x27;RandomForest&#x27;,\n",
       "                              RandomForestClassifier(class_weight=&#x27;balanced_subsample&#x27;,\n",
       "                                                     max_depth=20,\n",
       "                                                     min_samples_split=10,\n",
       "                                                     n_estimators=50,\n",
       "                                                     random_state=123)),\n",
       "                             (&#x27;MultinomialNB&#x27;, MultinomialNB(alpha=0.1)),\n",
       "                             (&#x27;One-vs-One Logistic&#x27;,\n",
       "                              OneVsOneClassifier(estimator=LogisticRegression(max_iter=2000,\n",
       "                                                                              multi_class=&#x27;multinomial&#x27;,\n",
       "                                                                              random_state=123,\n",
       "                                                                              solver=&#x27;saga&#x27;))),\n",
       "                             (&#x27;One-vs-Rest Logistic&#x27;,\n",
       "                              OneVsRestClassifier(estimator=LogisticRegression(max_iter=2000,\n",
       "                                                                               multi_class=&#x27;multinomial&#x27;,\n",
       "                                                                               random_state=123,\n",
       "                                                                               solver=&#x27;saga&#x27;)))])</pre></div></div></div><div class=\"sk-parallel\"><div class=\"sk-parallel-item\"><div class=\"sk-item\"><div class=\"sk-label-container\"><div class=\"sk-label sk-toggleable\"><label>logistic</label></div></div><div class=\"sk-serial\"><div class=\"sk-item\"><div class=\"sk-estimator sk-toggleable\"><input class=\"sk-toggleable__control sk-hidden--visually\" id=\"sk-estimator-id-63\" type=\"checkbox\" ><label for=\"sk-estimator-id-63\" class=\"sk-toggleable__label sk-toggleable__label-arrow\">LogisticRegression</label><div class=\"sk-toggleable__content\"><pre>LogisticRegression(max_iter=2000, multi_class=&#x27;multinomial&#x27;, random_state=123,\n",
       "                   solver=&#x27;saga&#x27;)</pre></div></div></div></div></div></div><div class=\"sk-parallel-item\"><div class=\"sk-item\"><div class=\"sk-label-container\"><div class=\"sk-label sk-toggleable\"><label>RandomForest</label></div></div><div class=\"sk-serial\"><div class=\"sk-item\"><div class=\"sk-estimator sk-toggleable\"><input class=\"sk-toggleable__control sk-hidden--visually\" id=\"sk-estimator-id-64\" type=\"checkbox\" ><label for=\"sk-estimator-id-64\" class=\"sk-toggleable__label sk-toggleable__label-arrow\">RandomForestClassifier</label><div class=\"sk-toggleable__content\"><pre>RandomForestClassifier(class_weight=&#x27;balanced_subsample&#x27;, max_depth=20,\n",
       "                       min_samples_split=10, n_estimators=50, random_state=123)</pre></div></div></div></div></div></div><div class=\"sk-parallel-item\"><div class=\"sk-item\"><div class=\"sk-label-container\"><div class=\"sk-label sk-toggleable\"><label>MultinomialNB</label></div></div><div class=\"sk-serial\"><div class=\"sk-item\"><div class=\"sk-estimator sk-toggleable\"><input class=\"sk-toggleable__control sk-hidden--visually\" id=\"sk-estimator-id-65\" type=\"checkbox\" ><label for=\"sk-estimator-id-65\" class=\"sk-toggleable__label sk-toggleable__label-arrow\">MultinomialNB</label><div class=\"sk-toggleable__content\"><pre>MultinomialNB(alpha=0.1)</pre></div></div></div></div></div></div><div class=\"sk-parallel-item\"><div class=\"sk-item\"><div class=\"sk-label-container\"><div class=\"sk-label sk-toggleable\"><label>One-vs-One Logistic</label></div></div><div class=\"sk-serial\"><div class=\"sk-item sk-dashed-wrapped\"><div class=\"sk-parallel\"><div class=\"sk-parallel-item\"><div class=\"sk-item\"><div class=\"sk-label-container\"><div class=\"sk-label sk-toggleable\"><input class=\"sk-toggleable__control sk-hidden--visually\" id=\"sk-estimator-id-66\" type=\"checkbox\" ><label for=\"sk-estimator-id-66\" class=\"sk-toggleable__label sk-toggleable__label-arrow\">estimator: LogisticRegression</label><div class=\"sk-toggleable__content\"><pre>LogisticRegression(max_iter=2000, multi_class=&#x27;multinomial&#x27;, random_state=123,\n",
       "                   solver=&#x27;saga&#x27;)</pre></div></div></div><div class=\"sk-serial\"><div class=\"sk-item\"><div class=\"sk-estimator sk-toggleable\"><input class=\"sk-toggleable__control sk-hidden--visually\" id=\"sk-estimator-id-67\" type=\"checkbox\" ><label for=\"sk-estimator-id-67\" class=\"sk-toggleable__label sk-toggleable__label-arrow\">LogisticRegression</label><div class=\"sk-toggleable__content\"><pre>LogisticRegression(max_iter=2000, multi_class=&#x27;multinomial&#x27;, random_state=123,\n",
       "                   solver=&#x27;saga&#x27;)</pre></div></div></div></div></div></div></div></div></div></div></div><div class=\"sk-parallel-item\"><div class=\"sk-item\"><div class=\"sk-label-container\"><div class=\"sk-label sk-toggleable\"><label>One-vs-Rest Logistic</label></div></div><div class=\"sk-serial\"><div class=\"sk-item sk-dashed-wrapped\"><div class=\"sk-parallel\"><div class=\"sk-parallel-item\"><div class=\"sk-item\"><div class=\"sk-label-container\"><div class=\"sk-label sk-toggleable\"><input class=\"sk-toggleable__control sk-hidden--visually\" id=\"sk-estimator-id-68\" type=\"checkbox\" ><label for=\"sk-estimator-id-68\" class=\"sk-toggleable__label sk-toggleable__label-arrow\">estimator: LogisticRegression</label><div class=\"sk-toggleable__content\"><pre>LogisticRegression(max_iter=2000, multi_class=&#x27;multinomial&#x27;, random_state=123,\n",
       "                   solver=&#x27;saga&#x27;)</pre></div></div></div><div class=\"sk-serial\"><div class=\"sk-item\"><div class=\"sk-estimator sk-toggleable\"><input class=\"sk-toggleable__control sk-hidden--visually\" id=\"sk-estimator-id-69\" type=\"checkbox\" ><label for=\"sk-estimator-id-69\" class=\"sk-toggleable__label sk-toggleable__label-arrow\">LogisticRegression</label><div class=\"sk-toggleable__content\"><pre>LogisticRegression(max_iter=2000, multi_class=&#x27;multinomial&#x27;, random_state=123,\n",
       "                   solver=&#x27;saga&#x27;)</pre></div></div></div></div></div></div></div></div></div></div></div></div></div></div></div>"
      ],
      "text/plain": [
       "VotingClassifier(estimators=[('logistic',\n",
       "                              LogisticRegression(max_iter=2000,\n",
       "                                                 multi_class='multinomial',\n",
       "                                                 random_state=123,\n",
       "                                                 solver='saga')),\n",
       "                             ('RandomForest',\n",
       "                              RandomForestClassifier(class_weight='balanced_subsample',\n",
       "                                                     max_depth=20,\n",
       "                                                     min_samples_split=10,\n",
       "                                                     n_estimators=50,\n",
       "                                                     random_state=123)),\n",
       "                             ('MultinomialNB', MultinomialNB(alpha=0.1)),\n",
       "                             ('One-vs-One Logistic',\n",
       "                              OneVsOneClassifier(estimator=LogisticRegression(max_iter=2000,\n",
       "                                                                              multi_class='multinomial',\n",
       "                                                                              random_state=123,\n",
       "                                                                              solver='saga'))),\n",
       "                             ('One-vs-Rest Logistic',\n",
       "                              OneVsRestClassifier(estimator=LogisticRegression(max_iter=2000,\n",
       "                                                                               multi_class='multinomial',\n",
       "                                                                               random_state=123,\n",
       "                                                                               solver='saga')))])"
      ]
     },
     "execution_count": 172,
     "metadata": {},
     "output_type": "execute_result"
    }
   ],
   "source": [
    "VC.fit(X_train, y_train[\"label\"])"
   ]
  },
  {
   "cell_type": "code",
   "execution_count": 173,
   "id": "ed042ee3",
   "metadata": {},
   "outputs": [
    {
     "data": {
      "text/plain": [
       "0.6010099296901948"
      ]
     },
     "execution_count": 173,
     "metadata": {},
     "output_type": "execute_result"
    }
   ],
   "source": [
    "y_pred_vc = VC.predict(X_val)\n",
    "f1_score(y_pred_vc, y_val['label'], average=\"macro\")"
   ]
  },
  {
   "cell_type": "markdown",
   "id": "2bf0f8e0",
   "metadata": {},
   "source": [
    "Not an improvement to the previous model"
   ]
  },
  {
   "cell_type": "markdown",
   "id": "1d81e700",
   "metadata": {},
   "source": [
    "The best ML model to classify text comes out to be OnevsOne Logistic classifier with F1 score of *0.6065*"
   ]
  },
  {
   "cell_type": "code",
   "execution_count": null,
   "id": "fe1fae48",
   "metadata": {},
   "outputs": [],
   "source": []
  }
 ],
 "metadata": {
  "kernelspec": {
   "display_name": "Python 3 (ipykernel)",
   "language": "python",
   "name": "python3"
  },
  "language_info": {
   "codemirror_mode": {
    "name": "ipython",
    "version": 3
   },
   "file_extension": ".py",
   "mimetype": "text/x-python",
   "name": "python",
   "nbconvert_exporter": "python",
   "pygments_lexer": "ipython3",
   "version": "3.9.16"
  }
 },
 "nbformat": 4,
 "nbformat_minor": 5
}
